{
  "nbformat": 4,
  "nbformat_minor": 0,
  "metadata": {
    "colab": {
      "name": "XGBoost VS LightGBM.ipynb",
      "provenance": [],
      "collapsed_sections": [],
      "authorship_tag": "ABX9TyOrKRbYW90M3ZV+cKEAClGt",
      "include_colab_link": true
    },
    "kernelspec": {
      "name": "python3",
      "display_name": "Python 3"
    },
    "language_info": {
      "name": "python"
    }
  },
  "cells": [
    {
      "cell_type": "markdown",
      "metadata": {
        "id": "view-in-github",
        "colab_type": "text"
      },
      "source": [
        "<a href=\"https://colab.research.google.com/github/FGalvao77/Comparando-a-performance---XGBoost-VS-LightGBM/blob/main/XGBoost_VS_LightGBM.ipynb\" target=\"_parent\"><img src=\"https://colab.research.google.com/assets/colab-badge.svg\" alt=\"Open In Colab\"/></a>"
      ]
    },
    {
      "cell_type": "markdown",
      "metadata": {
        "id": "ebVtDETfoD_o"
      },
      "source": [
        "# **Comparando a performance - XGBoost VS LightGBM**"
      ]
    },
    {
      "cell_type": "markdown",
      "metadata": {
        "id": "OgGwC0vQwub8"
      },
      "source": [
        "> Iremos realizar a comparação entre os algoritmos `XGBoost` e `LightGBM` e, avaliar suas performances quanto algumas métricas e tempo de execução do algoritmo."
      ]
    },
    {
      "cell_type": "markdown",
      "metadata": {
        "id": "f5v0QA-PZcG5"
      },
      "source": [
        "**Documentação:**"
      ]
    },
    {
      "cell_type": "markdown",
      "metadata": {
        "id": "UK7uUWmDxC4C"
      },
      "source": [
        "- [XGBoost](https://xgboost.readthedocs.io/en/stable/)\n",
        "- [LightGBM](https://lightgbm.readthedocs.io/en/latest/)"
      ]
    },
    {
      "cell_type": "markdown",
      "metadata": {
        "id": "pP_Q5-rRIWpt"
      },
      "source": [
        "## **1. Instalando e importando as bibliotecas**"
      ]
    },
    {
      "cell_type": "code",
      "metadata": {
        "id": "Cc8kI8_lqzP-"
      },
      "source": [
        "# importando a biblioteca para ignorar \"erros\"\n",
        "from warnings import filterwarnings\n",
        "filterwarnings('ignore')"
      ],
      "execution_count": 1,
      "outputs": []
    },
    {
      "cell_type": "code",
      "metadata": {
        "colab": {
          "base_uri": "https://localhost:8080/"
        },
        "id": "lxfs13ReszWj",
        "outputId": "66eb3ebd-05c4-437b-8f6c-056ff0b5d87a"
      },
      "source": [
        "# instalando o \"XGBoot\"\n",
        "!pip install xgboost"
      ],
      "execution_count": 2,
      "outputs": [
        {
          "output_type": "stream",
          "name": "stdout",
          "text": [
            "Requirement already satisfied: xgboost in /usr/local/lib/python3.7/dist-packages (0.90)\n",
            "Requirement already satisfied: numpy in /usr/local/lib/python3.7/dist-packages (from xgboost) (1.19.5)\n",
            "Requirement already satisfied: scipy in /usr/local/lib/python3.7/dist-packages (from xgboost) (1.4.1)\n"
          ]
        }
      ]
    },
    {
      "cell_type": "code",
      "metadata": {
        "colab": {
          "base_uri": "https://localhost:8080/"
        },
        "id": "FLhWOgQCszkr",
        "outputId": "2fe5b6f3-e1f8-4ee5-b63f-75b39e7ecd12"
      },
      "source": [
        "# instalando o \"LightGBM\"\n",
        "!pip install lightgbm"
      ],
      "execution_count": 3,
      "outputs": [
        {
          "output_type": "stream",
          "name": "stdout",
          "text": [
            "Requirement already satisfied: lightgbm in /usr/local/lib/python3.7/dist-packages (2.2.3)\n",
            "Requirement already satisfied: numpy in /usr/local/lib/python3.7/dist-packages (from lightgbm) (1.19.5)\n",
            "Requirement already satisfied: scipy in /usr/local/lib/python3.7/dist-packages (from lightgbm) (1.4.1)\n",
            "Requirement already satisfied: scikit-learn in /usr/local/lib/python3.7/dist-packages (from lightgbm) (1.0.1)\n",
            "Requirement already satisfied: joblib>=0.11 in /usr/local/lib/python3.7/dist-packages (from scikit-learn->lightgbm) (1.1.0)\n",
            "Requirement already satisfied: threadpoolctl>=2.0.0 in /usr/local/lib/python3.7/dist-packages (from scikit-learn->lightgbm) (3.0.0)\n"
          ]
        }
      ]
    },
    {
      "cell_type": "code",
      "metadata": {
        "id": "LQGPrCB8n7nh"
      },
      "source": [
        "# importando as biblioetcas\n",
        "import pandas as pd\n",
        "import numpy as np\n",
        "import lightgbm as lgb  \n",
        "import xgboost as xgb "
      ],
      "execution_count": 4,
      "outputs": []
    },
    {
      "cell_type": "markdown",
      "metadata": {
        "id": "fPMFK8QvIkD1"
      },
      "source": [
        "**Carregando e explorando o conjunto de dados**"
      ]
    },
    {
      "cell_type": "code",
      "metadata": {
        "colab": {
          "base_uri": "https://localhost:8080/"
        },
        "id": "nAOXaU9CyM8h",
        "outputId": "8d971eda-6372-490c-a5cd-596dccf10bbf"
      },
      "source": [
        "# carregando o conjunto de dados para dentro do ambiente do google colab\n",
        "!wget 'https://raw.githubusercontent.com/llSourcell/Best-Programming-Languages-for-Machine-Learning/master/adults.txt'"
      ],
      "execution_count": 5,
      "outputs": [
        {
          "output_type": "stream",
          "name": "stdout",
          "text": [
            "--2021-11-25 13:01:50--  https://raw.githubusercontent.com/llSourcell/Best-Programming-Languages-for-Machine-Learning/master/adults.txt\n",
            "Resolving raw.githubusercontent.com (raw.githubusercontent.com)... 185.199.108.133, 185.199.109.133, 185.199.110.133, ...\n",
            "Connecting to raw.githubusercontent.com (raw.githubusercontent.com)|185.199.108.133|:443... connected.\n",
            "HTTP request sent, awaiting response... 200 OK\n",
            "Length: 3518613 (3.4M) [text/plain]\n",
            "Saving to: ‘adults.txt.2’\n",
            "\n",
            "\radults.txt.2          0%[                    ]       0  --.-KB/s               \radults.txt.2        100%[===================>]   3.36M  --.-KB/s    in 0.08s   \n",
            "\n",
            "2021-11-25 13:01:50 (44.5 MB/s) - ‘adults.txt.2’ saved [3518613/3518613]\n",
            "\n"
          ]
        }
      ]
    },
    {
      "cell_type": "code",
      "metadata": {
        "colab": {
          "base_uri": "https://localhost:8080/",
          "height": 565
        },
        "id": "cw6ZOW4zufTT",
        "outputId": "6c3a491b-9656-47ce-9e7f-3f97c873b866"
      },
      "source": [
        "# realizando a leitura do conjunto de dados e instanciando na variável \"df\"\n",
        "df = pd.read_csv('/content/adults.txt', sep=',')\n",
        "\n",
        "# visualizando o objeto criado\n",
        "df"
      ],
      "execution_count": 6,
      "outputs": [
        {
          "output_type": "execute_result",
          "data": {
            "text/html": [
              "<div>\n",
              "<style scoped>\n",
              "    .dataframe tbody tr th:only-of-type {\n",
              "        vertical-align: middle;\n",
              "    }\n",
              "\n",
              "    .dataframe tbody tr th {\n",
              "        vertical-align: top;\n",
              "    }\n",
              "\n",
              "    .dataframe thead th {\n",
              "        text-align: right;\n",
              "    }\n",
              "</style>\n",
              "<table border=\"1\" class=\"dataframe\">\n",
              "  <thead>\n",
              "    <tr style=\"text-align: right;\">\n",
              "      <th></th>\n",
              "      <th>age</th>\n",
              "      <th>workclass</th>\n",
              "      <th>final_weight</th>\n",
              "      <th>education</th>\n",
              "      <th>education_num</th>\n",
              "      <th>marital_status</th>\n",
              "      <th>occupation</th>\n",
              "      <th>relationship</th>\n",
              "      <th>race</th>\n",
              "      <th>sex</th>\n",
              "      <th>capital_gain</th>\n",
              "      <th>capital_loss</th>\n",
              "      <th>hours_per_week</th>\n",
              "      <th>native_country</th>\n",
              "      <th>salary</th>\n",
              "    </tr>\n",
              "  </thead>\n",
              "  <tbody>\n",
              "    <tr>\n",
              "      <th>0</th>\n",
              "      <td>39</td>\n",
              "      <td>State-gov</td>\n",
              "      <td>77516</td>\n",
              "      <td>Bachelors</td>\n",
              "      <td>13</td>\n",
              "      <td>Never-married</td>\n",
              "      <td>Adm-clerical</td>\n",
              "      <td>Not-in-family</td>\n",
              "      <td>White</td>\n",
              "      <td>Male</td>\n",
              "      <td>2174</td>\n",
              "      <td>0</td>\n",
              "      <td>40</td>\n",
              "      <td>United-States</td>\n",
              "      <td>&lt;=50K</td>\n",
              "    </tr>\n",
              "    <tr>\n",
              "      <th>1</th>\n",
              "      <td>50</td>\n",
              "      <td>Self-emp-not-inc</td>\n",
              "      <td>83311</td>\n",
              "      <td>Bachelors</td>\n",
              "      <td>13</td>\n",
              "      <td>Married-civ-spouse</td>\n",
              "      <td>Exec-managerial</td>\n",
              "      <td>Husband</td>\n",
              "      <td>White</td>\n",
              "      <td>Male</td>\n",
              "      <td>0</td>\n",
              "      <td>0</td>\n",
              "      <td>13</td>\n",
              "      <td>United-States</td>\n",
              "      <td>&lt;=50K</td>\n",
              "    </tr>\n",
              "    <tr>\n",
              "      <th>2</th>\n",
              "      <td>38</td>\n",
              "      <td>Private</td>\n",
              "      <td>215646</td>\n",
              "      <td>HS-grad</td>\n",
              "      <td>9</td>\n",
              "      <td>Divorced</td>\n",
              "      <td>Handlers-cleaners</td>\n",
              "      <td>Not-in-family</td>\n",
              "      <td>White</td>\n",
              "      <td>Male</td>\n",
              "      <td>0</td>\n",
              "      <td>0</td>\n",
              "      <td>40</td>\n",
              "      <td>United-States</td>\n",
              "      <td>&lt;=50K</td>\n",
              "    </tr>\n",
              "    <tr>\n",
              "      <th>3</th>\n",
              "      <td>53</td>\n",
              "      <td>Private</td>\n",
              "      <td>234721</td>\n",
              "      <td>11th</td>\n",
              "      <td>7</td>\n",
              "      <td>Married-civ-spouse</td>\n",
              "      <td>Handlers-cleaners</td>\n",
              "      <td>Husband</td>\n",
              "      <td>Black</td>\n",
              "      <td>Male</td>\n",
              "      <td>0</td>\n",
              "      <td>0</td>\n",
              "      <td>40</td>\n",
              "      <td>United-States</td>\n",
              "      <td>&lt;=50K</td>\n",
              "    </tr>\n",
              "    <tr>\n",
              "      <th>4</th>\n",
              "      <td>28</td>\n",
              "      <td>Private</td>\n",
              "      <td>338409</td>\n",
              "      <td>Bachelors</td>\n",
              "      <td>13</td>\n",
              "      <td>Married-civ-spouse</td>\n",
              "      <td>Prof-specialty</td>\n",
              "      <td>Wife</td>\n",
              "      <td>Black</td>\n",
              "      <td>Female</td>\n",
              "      <td>0</td>\n",
              "      <td>0</td>\n",
              "      <td>40</td>\n",
              "      <td>Cuba</td>\n",
              "      <td>&lt;=50K</td>\n",
              "    </tr>\n",
              "    <tr>\n",
              "      <th>...</th>\n",
              "      <td>...</td>\n",
              "      <td>...</td>\n",
              "      <td>...</td>\n",
              "      <td>...</td>\n",
              "      <td>...</td>\n",
              "      <td>...</td>\n",
              "      <td>...</td>\n",
              "      <td>...</td>\n",
              "      <td>...</td>\n",
              "      <td>...</td>\n",
              "      <td>...</td>\n",
              "      <td>...</td>\n",
              "      <td>...</td>\n",
              "      <td>...</td>\n",
              "      <td>...</td>\n",
              "    </tr>\n",
              "    <tr>\n",
              "      <th>32556</th>\n",
              "      <td>27</td>\n",
              "      <td>Private</td>\n",
              "      <td>257302</td>\n",
              "      <td>Assoc-acdm</td>\n",
              "      <td>12</td>\n",
              "      <td>Married-civ-spouse</td>\n",
              "      <td>Tech-support</td>\n",
              "      <td>Wife</td>\n",
              "      <td>White</td>\n",
              "      <td>Female</td>\n",
              "      <td>0</td>\n",
              "      <td>0</td>\n",
              "      <td>38</td>\n",
              "      <td>United-States</td>\n",
              "      <td>&lt;=50K</td>\n",
              "    </tr>\n",
              "    <tr>\n",
              "      <th>32557</th>\n",
              "      <td>40</td>\n",
              "      <td>Private</td>\n",
              "      <td>154374</td>\n",
              "      <td>HS-grad</td>\n",
              "      <td>9</td>\n",
              "      <td>Married-civ-spouse</td>\n",
              "      <td>Machine-op-inspct</td>\n",
              "      <td>Husband</td>\n",
              "      <td>White</td>\n",
              "      <td>Male</td>\n",
              "      <td>0</td>\n",
              "      <td>0</td>\n",
              "      <td>40</td>\n",
              "      <td>United-States</td>\n",
              "      <td>&gt;50K</td>\n",
              "    </tr>\n",
              "    <tr>\n",
              "      <th>32558</th>\n",
              "      <td>58</td>\n",
              "      <td>Private</td>\n",
              "      <td>151910</td>\n",
              "      <td>HS-grad</td>\n",
              "      <td>9</td>\n",
              "      <td>Widowed</td>\n",
              "      <td>Adm-clerical</td>\n",
              "      <td>Unmarried</td>\n",
              "      <td>White</td>\n",
              "      <td>Female</td>\n",
              "      <td>0</td>\n",
              "      <td>0</td>\n",
              "      <td>40</td>\n",
              "      <td>United-States</td>\n",
              "      <td>&lt;=50K</td>\n",
              "    </tr>\n",
              "    <tr>\n",
              "      <th>32559</th>\n",
              "      <td>22</td>\n",
              "      <td>Private</td>\n",
              "      <td>201490</td>\n",
              "      <td>HS-grad</td>\n",
              "      <td>9</td>\n",
              "      <td>Never-married</td>\n",
              "      <td>Adm-clerical</td>\n",
              "      <td>Own-child</td>\n",
              "      <td>White</td>\n",
              "      <td>Male</td>\n",
              "      <td>0</td>\n",
              "      <td>0</td>\n",
              "      <td>20</td>\n",
              "      <td>United-States</td>\n",
              "      <td>&lt;=50K</td>\n",
              "    </tr>\n",
              "    <tr>\n",
              "      <th>32560</th>\n",
              "      <td>52</td>\n",
              "      <td>Self-emp-inc</td>\n",
              "      <td>287927</td>\n",
              "      <td>HS-grad</td>\n",
              "      <td>9</td>\n",
              "      <td>Married-civ-spouse</td>\n",
              "      <td>Exec-managerial</td>\n",
              "      <td>Wife</td>\n",
              "      <td>White</td>\n",
              "      <td>Female</td>\n",
              "      <td>15024</td>\n",
              "      <td>0</td>\n",
              "      <td>40</td>\n",
              "      <td>United-States</td>\n",
              "      <td>&gt;50K</td>\n",
              "    </tr>\n",
              "  </tbody>\n",
              "</table>\n",
              "<p>32561 rows × 15 columns</p>\n",
              "</div>"
            ],
            "text/plain": [
              "       age         workclass  ...  native_country salary\n",
              "0       39         State-gov  ...   United-States  <=50K\n",
              "1       50  Self-emp-not-inc  ...   United-States  <=50K\n",
              "2       38           Private  ...   United-States  <=50K\n",
              "3       53           Private  ...   United-States  <=50K\n",
              "4       28           Private  ...            Cuba  <=50K\n",
              "...    ...               ...  ...             ...    ...\n",
              "32556   27           Private  ...   United-States  <=50K\n",
              "32557   40           Private  ...   United-States   >50K\n",
              "32558   58           Private  ...   United-States  <=50K\n",
              "32559   22           Private  ...   United-States  <=50K\n",
              "32560   52      Self-emp-inc  ...   United-States   >50K\n",
              "\n",
              "[32561 rows x 15 columns]"
            ]
          },
          "metadata": {},
          "execution_count": 6
        }
      ]
    },
    {
      "cell_type": "code",
      "metadata": {
        "colab": {
          "base_uri": "https://localhost:8080/"
        },
        "id": "P15ei_AuqzFF",
        "outputId": "1e202a86-69e4-46de-f666-15d56ce2eacb"
      },
      "source": [
        "# tipo do objeto criado\n",
        "type(df)"
      ],
      "execution_count": 7,
      "outputs": [
        {
          "output_type": "execute_result",
          "data": {
            "text/plain": [
              "pandas.core.frame.DataFrame"
            ]
          },
          "metadata": {},
          "execution_count": 7
        }
      ]
    },
    {
      "cell_type": "code",
      "metadata": {
        "colab": {
          "base_uri": "https://localhost:8080/"
        },
        "id": "L1eaVgaXqzC5",
        "outputId": "158edb59-805d-4063-8841-080b7aff5d05"
      },
      "source": [
        "# nome das colunas\n",
        "df.columns"
      ],
      "execution_count": 8,
      "outputs": [
        {
          "output_type": "execute_result",
          "data": {
            "text/plain": [
              "Index(['age', 'workclass', 'final_weight', 'education', 'education_num',\n",
              "       'marital_status', 'occupation', 'relationship', 'race', 'sex',\n",
              "       'capital_gain', 'capital_loss', 'hours_per_week', 'native_country',\n",
              "       'salary'],\n",
              "      dtype='object')"
            ]
          },
          "metadata": {},
          "execution_count": 8
        }
      ]
    },
    {
      "cell_type": "code",
      "metadata": {
        "colab": {
          "base_uri": "https://localhost:8080/"
        },
        "id": "AKlak657qzBA",
        "outputId": "b3fe9582-7b20-4889-a542-2ae2328926d0"
      },
      "source": [
        "# informações gerais\n",
        "df.info()"
      ],
      "execution_count": 9,
      "outputs": [
        {
          "output_type": "stream",
          "name": "stdout",
          "text": [
            "<class 'pandas.core.frame.DataFrame'>\n",
            "RangeIndex: 32561 entries, 0 to 32560\n",
            "Data columns (total 15 columns):\n",
            " #   Column          Non-Null Count  Dtype \n",
            "---  ------          --------------  ----- \n",
            " 0   age             32561 non-null  int64 \n",
            " 1   workclass       32561 non-null  object\n",
            " 2   final_weight    32561 non-null  int64 \n",
            " 3   education       32561 non-null  object\n",
            " 4   education_num   32561 non-null  int64 \n",
            " 5   marital_status  32561 non-null  object\n",
            " 6   occupation      32561 non-null  object\n",
            " 7   relationship    32561 non-null  object\n",
            " 8   race            32561 non-null  object\n",
            " 9   sex             32561 non-null  object\n",
            " 10  capital_gain    32561 non-null  int64 \n",
            " 11  capital_loss    32561 non-null  int64 \n",
            " 12  hours_per_week  32561 non-null  int64 \n",
            " 13  native_country  32561 non-null  object\n",
            " 14  salary          32561 non-null  object\n",
            "dtypes: int64(6), object(9)\n",
            "memory usage: 3.7+ MB\n"
          ]
        }
      ]
    },
    {
      "cell_type": "markdown",
      "metadata": {
        "id": "2snOepaLk6Fg"
      },
      "source": [
        "**O nosso desafio é prever dados alguns atributos qual o salário de um colaborador, portanto um problema de _classificação_**\n",
        "\n",
        "Vamos explorar a nosso variável alvo, nesse caso o `salary` entender as condições da mesma."
      ]
    },
    {
      "cell_type": "code",
      "metadata": {
        "colab": {
          "base_uri": "https://localhost:8080/"
        },
        "id": "gEHcvT-v3Dus",
        "outputId": "973c04a2-a0ad-422d-bf72-0dc3d9b443a0"
      },
      "source": [
        "# visualizando as instâncias únicas da variável alvo\n",
        "df['salary'].unique()"
      ],
      "execution_count": 10,
      "outputs": [
        {
          "output_type": "execute_result",
          "data": {
            "text/plain": [
              "array(['<=50K', '>50K'], dtype=object)"
            ]
          },
          "metadata": {},
          "execution_count": 10
        }
      ]
    },
    {
      "cell_type": "code",
      "metadata": {
        "colab": {
          "base_uri": "https://localhost:8080/"
        },
        "id": "SBFRY5Pvqy_p",
        "outputId": "97a5917c-34ee-4b8a-8070-c3c7694a712b"
      },
      "source": [
        "# contabilizando as instâncias únicas da variável alvo\n",
        "df['salary'].value_counts()"
      ],
      "execution_count": 11,
      "outputs": [
        {
          "output_type": "execute_result",
          "data": {
            "text/plain": [
              "<=50K    24720\n",
              ">50K      7841\n",
              "Name: salary, dtype: int64"
            ]
          },
          "metadata": {},
          "execution_count": 11
        }
      ]
    },
    {
      "cell_type": "markdown",
      "metadata": {
        "id": "zTjV8ZI9l0pn"
      },
      "source": [
        "> Perceba que, a variável alvo possui dado do tipo _object_, ou seja, caracteres (strings). E sua relação é categórica:    \n",
        "- salário maior e/ou igual a 50 mil (`<=50K`) e,\n",
        "- salário menor que 50 mil (`>50K`).\n",
        "\n",
        "É necessário realizarmos um tratamento em nossa variável alvo, transformando-a para do tipo numérica."
      ]
    },
    {
      "cell_type": "markdown",
      "metadata": {
        "id": "AZjDlP_TJDP2"
      },
      "source": [
        "## **2. Pré-processamento dos dados**"
      ]
    },
    {
      "cell_type": "code",
      "metadata": {
        "id": "dUKxoOM0ufNn"
      },
      "source": [
        "# importando a biblioteca para tratamento da variável alvo\n",
        "from sklearn.preprocessing import LabelEncoder, OneHotEncoder"
      ],
      "execution_count": 12,
      "outputs": []
    },
    {
      "cell_type": "code",
      "metadata": {
        "colab": {
          "base_uri": "https://localhost:8080/"
        },
        "id": "q0GCafRiufLB",
        "outputId": "d7a339b1-2594-41f7-df0a-7776f43c6167"
      },
      "source": [
        "# instanciando a função no objeto \"lb\"\n",
        "lb = LabelEncoder()\n",
        "\n",
        "# aplicando a função na variável alvo\n",
        "lb.fit(df['salary'])"
      ],
      "execution_count": 13,
      "outputs": [
        {
          "output_type": "execute_result",
          "data": {
            "text/plain": [
              "LabelEncoder()"
            ]
          },
          "metadata": {},
          "execution_count": 13
        }
      ]
    },
    {
      "cell_type": "markdown",
      "metadata": {
        "id": "O7broLt4J2C-"
      },
      "source": [
        "> O `LabelEncoder` transformará as instâncias em classes."
      ]
    },
    {
      "cell_type": "code",
      "metadata": {
        "colab": {
          "base_uri": "https://localhost:8080/"
        },
        "id": "nJSE4VPC152E",
        "outputId": "f0610086-9ac6-4582-d44d-fae73f491690"
      },
      "source": [
        "# visualizando as classes criadas\n",
        "lb.classes_"
      ],
      "execution_count": 14,
      "outputs": [
        {
          "output_type": "execute_result",
          "data": {
            "text/plain": [
              "array(['<=50K', '>50K'], dtype=object)"
            ]
          },
          "metadata": {},
          "execution_count": 14
        }
      ]
    },
    {
      "cell_type": "code",
      "metadata": {
        "colab": {
          "base_uri": "https://localhost:8080/"
        },
        "id": "afb4N-EIufIg",
        "outputId": "8048c253-f70c-41a0-aadb-81455b519cb5"
      },
      "source": [
        "# contabilizando as instâncias presentes\n",
        "df['salary'].value_counts()"
      ],
      "execution_count": 15,
      "outputs": [
        {
          "output_type": "execute_result",
          "data": {
            "text/plain": [
              "<=50K    24720\n",
              ">50K      7841\n",
              "Name: salary, dtype: int64"
            ]
          },
          "metadata": {},
          "execution_count": 15
        }
      ]
    },
    {
      "cell_type": "code",
      "metadata": {
        "id": "lQvpWeZ7ufGT"
      },
      "source": [
        "# aplicando a transformação das classes para tipo numérico\n",
        "# para isso, utilizamos a função \".transform()\" e juntamente com a função do pandas \".Series()\"\n",
        "df['salary'] = pd.Series(lb.transform(df['salary']))"
      ],
      "execution_count": 16,
      "outputs": []
    },
    {
      "cell_type": "code",
      "metadata": {
        "colab": {
          "base_uri": "https://localhost:8080/"
        },
        "id": "wxKPEq5SufCg",
        "outputId": "267a812e-a378-4fae-f460-29b1354d49f6"
      },
      "source": [
        "# visualizando e contabilizando a transformação realizada\n",
        "df['salary'].value_counts()"
      ],
      "execution_count": 17,
      "outputs": [
        {
          "output_type": "execute_result",
          "data": {
            "text/plain": [
              "0    24720\n",
              "1     7841\n",
              "Name: salary, dtype: int64"
            ]
          },
          "metadata": {},
          "execution_count": 17
        }
      ]
    },
    {
      "cell_type": "code",
      "metadata": {
        "colab": {
          "base_uri": "https://localhost:8080/"
        },
        "id": "rxlt7BXRue_y",
        "outputId": "6fb65fb1-fbe4-4209-df49-9748aeab4b25"
      },
      "source": [
        "# informações gerais\n",
        "df.info()"
      ],
      "execution_count": 18,
      "outputs": [
        {
          "output_type": "stream",
          "name": "stdout",
          "text": [
            "<class 'pandas.core.frame.DataFrame'>\n",
            "RangeIndex: 32561 entries, 0 to 32560\n",
            "Data columns (total 15 columns):\n",
            " #   Column          Non-Null Count  Dtype \n",
            "---  ------          --------------  ----- \n",
            " 0   age             32561 non-null  int64 \n",
            " 1   workclass       32561 non-null  object\n",
            " 2   final_weight    32561 non-null  int64 \n",
            " 3   education       32561 non-null  object\n",
            " 4   education_num   32561 non-null  int64 \n",
            " 5   marital_status  32561 non-null  object\n",
            " 6   occupation      32561 non-null  object\n",
            " 7   relationship    32561 non-null  object\n",
            " 8   race            32561 non-null  object\n",
            " 9   sex             32561 non-null  object\n",
            " 10  capital_gain    32561 non-null  int64 \n",
            " 11  capital_loss    32561 non-null  int64 \n",
            " 12  hours_per_week  32561 non-null  int64 \n",
            " 13  native_country  32561 non-null  object\n",
            " 14  salary          32561 non-null  int64 \n",
            "dtypes: int64(7), object(8)\n",
            "memory usage: 3.7+ MB\n"
          ]
        }
      ]
    },
    {
      "cell_type": "markdown",
      "metadata": {
        "id": "cl6dqA0ZoNa0"
      },
      "source": [
        "**Agora temos que realizar um tratamento para as demais _variáveis categóricas_.**"
      ]
    },
    {
      "cell_type": "code",
      "metadata": {
        "colab": {
          "base_uri": "https://localhost:8080/"
        },
        "id": "qvwiBQst7yu7",
        "outputId": "82ee7a83-3d9d-44da-cd68-2f8fc6ba2337"
      },
      "source": [
        "# instanciando as variáveis categóricas\n",
        "vars_cat = [col for col in df if df[col].dtype.name == 'object']\n",
        "\n",
        "# visualizando as variáveis categóricas\n",
        "vars_cat"
      ],
      "execution_count": 19,
      "outputs": [
        {
          "output_type": "execute_result",
          "data": {
            "text/plain": [
              "['workclass',\n",
              " 'education',\n",
              " 'marital_status',\n",
              " 'occupation',\n",
              " 'relationship',\n",
              " 'race',\n",
              " 'sex',\n",
              " 'native_country']"
            ]
          },
          "metadata": {},
          "execution_count": 19
        }
      ]
    },
    {
      "cell_type": "markdown",
      "metadata": {
        "id": "MM6I1-L_odEb"
      },
      "source": [
        "> Para essa etapa, iremos aplicar a função do pandas `.get_dummies` que irar transformar as variáveis categóricas."
      ]
    },
    {
      "cell_type": "code",
      "metadata": {
        "id": "g_77Ve7h9YEc"
      },
      "source": [
        "# instanciando cada atributo e realizando a transformação necessária\n",
        "ohe_workclass = pd.get_dummies(df[vars_cat[0]])\n",
        "ohe_education = pd.get_dummies(df[vars_cat[1]])\n",
        "ohe_marital_status = pd.get_dummies(df[vars_cat[2]])\n",
        "ohe_occupation = pd.get_dummies(df[vars_cat[3]])\n",
        "ohe_relationship = pd.get_dummies(df[vars_cat[4]])\n",
        "ohe_race = pd.get_dummies(df[vars_cat[5]])\n",
        "ohe_sex = pd.get_dummies(df[vars_cat[6]])\n",
        "ohe_native_country = pd.get_dummies(df[vars_cat[7]])"
      ],
      "execution_count": 20,
      "outputs": []
    },
    {
      "cell_type": "code",
      "metadata": {
        "colab": {
          "base_uri": "https://localhost:8080/",
          "height": 424
        },
        "id": "m6Q9ruPj9YB1",
        "outputId": "e7c88aaa-7f9f-4b06-db4c-9e12d6dbeffb"
      },
      "source": [
        "# visualizando o primeiro objeto e as transformações realizadas\n",
        "ohe_workclass"
      ],
      "execution_count": 21,
      "outputs": [
        {
          "output_type": "execute_result",
          "data": {
            "text/html": [
              "<div>\n",
              "<style scoped>\n",
              "    .dataframe tbody tr th:only-of-type {\n",
              "        vertical-align: middle;\n",
              "    }\n",
              "\n",
              "    .dataframe tbody tr th {\n",
              "        vertical-align: top;\n",
              "    }\n",
              "\n",
              "    .dataframe thead th {\n",
              "        text-align: right;\n",
              "    }\n",
              "</style>\n",
              "<table border=\"1\" class=\"dataframe\">\n",
              "  <thead>\n",
              "    <tr style=\"text-align: right;\">\n",
              "      <th></th>\n",
              "      <th>?</th>\n",
              "      <th>Federal-gov</th>\n",
              "      <th>Local-gov</th>\n",
              "      <th>Never-worked</th>\n",
              "      <th>Private</th>\n",
              "      <th>Self-emp-inc</th>\n",
              "      <th>Self-emp-not-inc</th>\n",
              "      <th>State-gov</th>\n",
              "      <th>Without-pay</th>\n",
              "    </tr>\n",
              "  </thead>\n",
              "  <tbody>\n",
              "    <tr>\n",
              "      <th>0</th>\n",
              "      <td>0</td>\n",
              "      <td>0</td>\n",
              "      <td>0</td>\n",
              "      <td>0</td>\n",
              "      <td>0</td>\n",
              "      <td>0</td>\n",
              "      <td>0</td>\n",
              "      <td>1</td>\n",
              "      <td>0</td>\n",
              "    </tr>\n",
              "    <tr>\n",
              "      <th>1</th>\n",
              "      <td>0</td>\n",
              "      <td>0</td>\n",
              "      <td>0</td>\n",
              "      <td>0</td>\n",
              "      <td>0</td>\n",
              "      <td>0</td>\n",
              "      <td>1</td>\n",
              "      <td>0</td>\n",
              "      <td>0</td>\n",
              "    </tr>\n",
              "    <tr>\n",
              "      <th>2</th>\n",
              "      <td>0</td>\n",
              "      <td>0</td>\n",
              "      <td>0</td>\n",
              "      <td>0</td>\n",
              "      <td>1</td>\n",
              "      <td>0</td>\n",
              "      <td>0</td>\n",
              "      <td>0</td>\n",
              "      <td>0</td>\n",
              "    </tr>\n",
              "    <tr>\n",
              "      <th>3</th>\n",
              "      <td>0</td>\n",
              "      <td>0</td>\n",
              "      <td>0</td>\n",
              "      <td>0</td>\n",
              "      <td>1</td>\n",
              "      <td>0</td>\n",
              "      <td>0</td>\n",
              "      <td>0</td>\n",
              "      <td>0</td>\n",
              "    </tr>\n",
              "    <tr>\n",
              "      <th>4</th>\n",
              "      <td>0</td>\n",
              "      <td>0</td>\n",
              "      <td>0</td>\n",
              "      <td>0</td>\n",
              "      <td>1</td>\n",
              "      <td>0</td>\n",
              "      <td>0</td>\n",
              "      <td>0</td>\n",
              "      <td>0</td>\n",
              "    </tr>\n",
              "    <tr>\n",
              "      <th>...</th>\n",
              "      <td>...</td>\n",
              "      <td>...</td>\n",
              "      <td>...</td>\n",
              "      <td>...</td>\n",
              "      <td>...</td>\n",
              "      <td>...</td>\n",
              "      <td>...</td>\n",
              "      <td>...</td>\n",
              "      <td>...</td>\n",
              "    </tr>\n",
              "    <tr>\n",
              "      <th>32556</th>\n",
              "      <td>0</td>\n",
              "      <td>0</td>\n",
              "      <td>0</td>\n",
              "      <td>0</td>\n",
              "      <td>1</td>\n",
              "      <td>0</td>\n",
              "      <td>0</td>\n",
              "      <td>0</td>\n",
              "      <td>0</td>\n",
              "    </tr>\n",
              "    <tr>\n",
              "      <th>32557</th>\n",
              "      <td>0</td>\n",
              "      <td>0</td>\n",
              "      <td>0</td>\n",
              "      <td>0</td>\n",
              "      <td>1</td>\n",
              "      <td>0</td>\n",
              "      <td>0</td>\n",
              "      <td>0</td>\n",
              "      <td>0</td>\n",
              "    </tr>\n",
              "    <tr>\n",
              "      <th>32558</th>\n",
              "      <td>0</td>\n",
              "      <td>0</td>\n",
              "      <td>0</td>\n",
              "      <td>0</td>\n",
              "      <td>1</td>\n",
              "      <td>0</td>\n",
              "      <td>0</td>\n",
              "      <td>0</td>\n",
              "      <td>0</td>\n",
              "    </tr>\n",
              "    <tr>\n",
              "      <th>32559</th>\n",
              "      <td>0</td>\n",
              "      <td>0</td>\n",
              "      <td>0</td>\n",
              "      <td>0</td>\n",
              "      <td>1</td>\n",
              "      <td>0</td>\n",
              "      <td>0</td>\n",
              "      <td>0</td>\n",
              "      <td>0</td>\n",
              "    </tr>\n",
              "    <tr>\n",
              "      <th>32560</th>\n",
              "      <td>0</td>\n",
              "      <td>0</td>\n",
              "      <td>0</td>\n",
              "      <td>0</td>\n",
              "      <td>0</td>\n",
              "      <td>1</td>\n",
              "      <td>0</td>\n",
              "      <td>0</td>\n",
              "      <td>0</td>\n",
              "    </tr>\n",
              "  </tbody>\n",
              "</table>\n",
              "<p>32561 rows × 9 columns</p>\n",
              "</div>"
            ],
            "text/plain": [
              "       ?  Federal-gov  Local-gov  ...  Self-emp-not-inc  State-gov  Without-pay\n",
              "0      0            0          0  ...                 0          1            0\n",
              "1      0            0          0  ...                 1          0            0\n",
              "2      0            0          0  ...                 0          0            0\n",
              "3      0            0          0  ...                 0          0            0\n",
              "4      0            0          0  ...                 0          0            0\n",
              "...   ..          ...        ...  ...               ...        ...          ...\n",
              "32556  0            0          0  ...                 0          0            0\n",
              "32557  0            0          0  ...                 0          0            0\n",
              "32558  0            0          0  ...                 0          0            0\n",
              "32559  0            0          0  ...                 0          0            0\n",
              "32560  0            0          0  ...                 0          0            0\n",
              "\n",
              "[32561 rows x 9 columns]"
            ]
          },
          "metadata": {},
          "execution_count": 21
        }
      ]
    },
    {
      "cell_type": "markdown",
      "metadata": {
        "id": "BfP2YRnkKooW"
      },
      "source": [
        "> Foi criado um atributo relacionado com cada uma das instâncias presentes na coluna."
      ]
    },
    {
      "cell_type": "code",
      "metadata": {
        "id": "CPpJ6Om59X_0"
      },
      "source": [
        "# concatenado as transformações realizadas juntamente com o \"df\" e instanciando em um novo objeto \"df2\"\n",
        "df2 = pd.concat([df, ohe_workclass, ohe_education, ohe_marital_status, ohe_occupation, ohe_relationship, \n",
        "               ohe_race, ohe_sex, ohe_native_country], axis=1)"
      ],
      "execution_count": 22,
      "outputs": []
    },
    {
      "cell_type": "code",
      "metadata": {
        "id": "xQ0j_x1oJa8I"
      },
      "source": [
        "# removendo as variáveis que não faz mais sentido, já que as mesmas foram tratadas\n",
        "df2.drop(['education', 'marital_status', 'native_country', 'occupation', \n",
        "                'race', 'relationship', 'sex', 'workclass'], \n",
        "               axis=1, inplace=True)"
      ],
      "execution_count": 23,
      "outputs": []
    },
    {
      "cell_type": "code",
      "metadata": {
        "colab": {
          "base_uri": "https://localhost:8080/"
        },
        "id": "5snxiWC29X9b",
        "outputId": "a4faf9f2-4dd8-4ffc-86a7-48209c5cb6e0"
      },
      "source": [
        "# informações gerais\n",
        "df2.info()"
      ],
      "execution_count": 24,
      "outputs": [
        {
          "output_type": "stream",
          "name": "stdout",
          "text": [
            "<class 'pandas.core.frame.DataFrame'>\n",
            "RangeIndex: 32561 entries, 0 to 32560\n",
            "Columns: 109 entries, age to Yugoslavia\n",
            "dtypes: int64(7), uint8(102)\n",
            "memory usage: 4.9 MB\n"
          ]
        }
      ]
    },
    {
      "cell_type": "code",
      "metadata": {
        "colab": {
          "base_uri": "https://localhost:8080/"
        },
        "id": "-dG0kvCD9X7v",
        "outputId": "556f5c2e-a9c7-4213-9e58-c9c3f64c22a9"
      },
      "source": [
        "# visualizando os atributos presentes no objeto \"df2\" até a coluna 50a \n",
        "df2.columns[:50]"
      ],
      "execution_count": 25,
      "outputs": [
        {
          "output_type": "execute_result",
          "data": {
            "text/plain": [
              "Index(['age', 'final_weight', 'education_num', 'capital_gain', 'capital_loss',\n",
              "       'hours_per_week', 'salary', '?', 'Federal-gov', 'Local-gov',\n",
              "       'Never-worked', 'Private', 'Self-emp-inc', 'Self-emp-not-inc',\n",
              "       'State-gov', 'Without-pay', '10th', '11th', '12th', '1st-4th',\n",
              "       '5th-6th', '7th-8th', '9th', 'Assoc-acdm', 'Assoc-voc', 'Bachelors',\n",
              "       'Doctorate', 'HS-grad', 'Masters', 'Preschool', 'Prof-school',\n",
              "       'Some-college', 'Divorced', 'Married-AF-spouse', 'Married-civ-spouse',\n",
              "       'Married-spouse-absent', 'Never-married', 'Separated', 'Widowed', '?',\n",
              "       'Adm-clerical', 'Armed-Forces', 'Craft-repair', 'Exec-managerial',\n",
              "       'Farming-fishing', 'Handlers-cleaners', 'Machine-op-inspct',\n",
              "       'Other-service', 'Priv-house-serv', 'Prof-specialty'],\n",
              "      dtype='object')"
            ]
          },
          "metadata": {},
          "execution_count": 25
        }
      ]
    },
    {
      "cell_type": "code",
      "metadata": {
        "colab": {
          "base_uri": "https://localhost:8080/"
        },
        "id": "nj4sVc2w9X5S",
        "outputId": "1cffa63d-6cf5-4e0a-a375-aa0685d1b53e"
      },
      "source": [
        "# visualizando os demais atributos presentes da coluna 50a em diante\n",
        "df2.columns[50:]"
      ],
      "execution_count": 26,
      "outputs": [
        {
          "output_type": "execute_result",
          "data": {
            "text/plain": [
              "Index(['Protective-serv', 'Sales', 'Tech-support', 'Transport-moving',\n",
              "       'Husband', 'Not-in-family', 'Other-relative', 'Own-child', 'Unmarried',\n",
              "       'Wife', 'Amer-Indian-Eskimo', 'Asian-Pac-Islander', 'Black', 'Other',\n",
              "       'White', 'Female', 'Male', '?', 'Cambodia', 'Canada', 'China',\n",
              "       'Columbia', 'Cuba', 'Dominican-Republic', 'Ecuador', 'El-Salvador',\n",
              "       'England', 'France', 'Germany', 'Greece', 'Guatemala', 'Haiti',\n",
              "       'Holand-Netherlands', 'Honduras', 'Hong', 'Hungary', 'India', 'Iran',\n",
              "       'Ireland', 'Italy', 'Jamaica', 'Japan', 'Laos', 'Mexico', 'Nicaragua',\n",
              "       'Outlying-US(Guam-USVI-etc)', 'Peru', 'Philippines', 'Poland',\n",
              "       'Portugal', 'Puerto-Rico', 'Scotland', 'South', 'Taiwan', 'Thailand',\n",
              "       'Trinadad&Tobago', 'United-States', 'Vietnam', 'Yugoslavia'],\n",
              "      dtype='object')"
            ]
          },
          "metadata": {},
          "execution_count": 26
        }
      ]
    },
    {
      "cell_type": "code",
      "metadata": {
        "colab": {
          "base_uri": "https://localhost:8080/"
        },
        "id": "fIPOeS1I9X3H",
        "outputId": "92da44b6-be5e-4b6c-8d34-1e666e189238"
      },
      "source": [
        "# visualizando novamente a variável alvo\n",
        "df2['salary']"
      ],
      "execution_count": 27,
      "outputs": [
        {
          "output_type": "execute_result",
          "data": {
            "text/plain": [
              "0        0\n",
              "1        0\n",
              "2        0\n",
              "3        0\n",
              "4        0\n",
              "        ..\n",
              "32556    0\n",
              "32557    1\n",
              "32558    0\n",
              "32559    0\n",
              "32560    1\n",
              "Name: salary, Length: 32561, dtype: int64"
            ]
          },
          "metadata": {},
          "execution_count": 27
        }
      ]
    },
    {
      "cell_type": "code",
      "metadata": {
        "colab": {
          "base_uri": "https://localhost:8080/"
        },
        "id": "aYbZp4N49X1R",
        "outputId": "89a5328d-b742-4096-897a-d01a0bb24675"
      },
      "source": [
        "# contabilizando a presença de dados duplicados\n",
        "df2.duplicated().sum()"
      ],
      "execution_count": 28,
      "outputs": [
        {
          "output_type": "execute_result",
          "data": {
            "text/plain": [
              "24"
            ]
          },
          "metadata": {},
          "execution_count": 28
        }
      ]
    },
    {
      "cell_type": "code",
      "metadata": {
        "id": "OdWeds6X9XzM"
      },
      "source": [
        "# removendo dados duplicados\n",
        "df2.drop_duplicates(keep=False, inplace=True)"
      ],
      "execution_count": 29,
      "outputs": []
    },
    {
      "cell_type": "code",
      "metadata": {
        "colab": {
          "base_uri": "https://localhost:8080/"
        },
        "id": "1X7-_79SDnAR",
        "outputId": "d2d350b7-1b66-47d5-f308-a76b3eebf669"
      },
      "source": [
        "# contabilizando a presença de dados duplicados apoś o tratamento\n",
        "df2.duplicated().sum()"
      ],
      "execution_count": 30,
      "outputs": [
        {
          "output_type": "execute_result",
          "data": {
            "text/plain": [
              "0"
            ]
          },
          "metadata": {},
          "execution_count": 30
        }
      ]
    },
    {
      "cell_type": "code",
      "metadata": {
        "id": "zwa-OjjPDm8g"
      },
      "source": [
        "# contabilizando a quantidade de atributos presentes no \"df2\"\n",
        "_, i = np.unique(df2.columns, return_index=True)\n",
        "\n",
        "df2 = df2.iloc[:, i]"
      ],
      "execution_count": 31,
      "outputs": []
    },
    {
      "cell_type": "code",
      "metadata": {
        "colab": {
          "base_uri": "https://localhost:8080/"
        },
        "id": "UxC9xgo6Dm5d",
        "outputId": "168bc4da-a31a-42ef-c0f8-425cc25ad27d"
      },
      "source": [
        "# informações gerais\n",
        "df2.info()"
      ],
      "execution_count": 32,
      "outputs": [
        {
          "output_type": "stream",
          "name": "stdout",
          "text": [
            "<class 'pandas.core.frame.DataFrame'>\n",
            "Int64Index: 32514 entries, 0 to 32560\n",
            "Columns: 107 entries, 10th to salary\n",
            "dtypes: int64(7), uint8(100)\n",
            "memory usage: 5.1 MB\n"
          ]
        }
      ]
    },
    {
      "cell_type": "code",
      "metadata": {
        "colab": {
          "base_uri": "https://localhost:8080/"
        },
        "id": "IPUeM5JGG1WB",
        "outputId": "af00dc37-fe6b-4bdc-8aa2-980917adb252"
      },
      "source": [
        "# realizando o particionamento dos dados para treino/validação e teste final\n",
        "data = df2.sample(frac=0.7, random_state=42)\n",
        "val_data = df2.drop(data.index)\n",
        "\n",
        "# resetando os índices\n",
        "data.reset_index(drop=True, inplace=True)\n",
        "val_data.reset_index(drop=True, inplace=True)\n",
        "\n",
        "# visualizando a dimensão do particionamento dos dados\n",
        "print('Data for Modeling: ' + str(data.shape))\n",
        "print('Unseen Data For Predictions: ' + str(val_data.shape))"
      ],
      "execution_count": 33,
      "outputs": [
        {
          "output_type": "stream",
          "name": "stdout",
          "text": [
            "Data for Modeling: (22760, 107)\n",
            "Unseen Data For Predictions: (9754, 107)\n"
          ]
        }
      ]
    },
    {
      "cell_type": "code",
      "metadata": {
        "id": "ooMfElE-GGUn"
      },
      "source": [
        "# instanciando as variáveis explicativas (X) e a resposta (y)\n",
        "X = data.drop('salary', axis=1)\n",
        "y = data['salary']"
      ],
      "execution_count": 34,
      "outputs": []
    },
    {
      "cell_type": "code",
      "metadata": {
        "colab": {
          "base_uri": "https://localhost:8080/"
        },
        "id": "NwERqwAOHXbx",
        "outputId": "59884935-b955-4f89-fd2c-80e63e0c76ad"
      },
      "source": [
        "# visualizando a dimensão do objeto\n",
        "X.shape"
      ],
      "execution_count": 35,
      "outputs": [
        {
          "output_type": "execute_result",
          "data": {
            "text/plain": [
              "(22760, 106)"
            ]
          },
          "metadata": {},
          "execution_count": 35
        }
      ]
    },
    {
      "cell_type": "code",
      "metadata": {
        "colab": {
          "base_uri": "https://localhost:8080/"
        },
        "id": "BShWka7sHzDq",
        "outputId": "970df62e-6cbf-4c96-bf04-c846d2281219"
      },
      "source": [
        "# contabilizando a presença de valores \"NaN\" na varável \"y\" (alvo)\n",
        "y.isna().sum()"
      ],
      "execution_count": 36,
      "outputs": [
        {
          "output_type": "execute_result",
          "data": {
            "text/plain": [
              "0"
            ]
          },
          "metadata": {},
          "execution_count": 36
        }
      ]
    },
    {
      "cell_type": "markdown",
      "metadata": {
        "id": "YXm5xCkDrPbp"
      },
      "source": [
        "> Não há valores `NaN`.\n",
        "\n",
        "Mas se no caso houvesse poderíamos utilizar alguma estratégia para tratar o problema, como:    \n",
        "- remover as linhas com valores do tipo `NaN'.\n",
        " - esse tipo de ação pode gerar a perda considerável de dados.\n",
        "- e preencher com algum valor presente no atributo:    \n",
        " - média;\n",
        " - mediana e,\n",
        " - moda."
      ]
    },
    {
      "cell_type": "code",
      "metadata": {
        "id": "7DXHSPr9Dm01"
      },
      "source": [
        "# aplicando o preenchimento com a moda\n",
        "y.fillna(y.mode()[0], inplace=True)"
      ],
      "execution_count": 37,
      "outputs": []
    },
    {
      "cell_type": "code",
      "metadata": {
        "id": "12RVbiZy5SJw"
      },
      "source": [
        "# importando a biblioteca para realizar a partição do conjunto de dados\n",
        "from sklearn.model_selection import train_test_split"
      ],
      "execution_count": 38,
      "outputs": []
    },
    {
      "cell_type": "code",
      "metadata": {
        "id": "ZToZbh7WDm4I"
      },
      "source": [
        "# particionando os dados em treino e teste\n",
        "X_train, X_test, y_train, y_test = train_test_split(X, y, \n",
        "                                                      test_size=0.3,\n",
        "                                                      random_state=42)"
      ],
      "execution_count": 39,
      "outputs": []
    },
    {
      "cell_type": "code",
      "metadata": {
        "colab": {
          "base_uri": "https://localhost:8080/"
        },
        "id": "5cwCakmLDm2f",
        "outputId": "fbb546aa-823f-4942-89c8-3bf5b79d16c2"
      },
      "source": [
        "# visualizando a dimensão do particionamento dos dados\n",
        "X_train.shape, X_test.shape, y_train.shape, y_test.shape"
      ],
      "execution_count": 40,
      "outputs": [
        {
          "output_type": "execute_result",
          "data": {
            "text/plain": [
              "((15932, 106), (6828, 106), (15932,), (6828,))"
            ]
          },
          "metadata": {},
          "execution_count": 40
        }
      ]
    },
    {
      "cell_type": "markdown",
      "metadata": {
        "id": "FMb03n40L2o2"
      },
      "source": [
        "## **3. Modelagem e avaliação do modelo**"
      ]
    },
    {
      "cell_type": "markdown",
      "metadata": {
        "id": "kTV0o-hYIj6w"
      },
      "source": [
        "### **XGBoost**\n",
        "\n",
        "\n"
      ]
    },
    {
      "cell_type": "markdown",
      "metadata": {
        "id": "l0r__UertuXn"
      },
      "source": [
        "Antes de aplicar o algoritmo `XGBoost` é necessário realizar uma transformação nas bases de dados, pois o modelo trabalha com matrizes.\n",
        "\n",
        "Para isso, utilizamos a função `.DMatrix()`."
      ]
    },
    {
      "cell_type": "code",
      "metadata": {
        "id": "nWE5y76rDmzX"
      },
      "source": [
        "# instanciando o objeto \"df_train\", para isso utilizamos a função \".DMatrix\" do XGBoost\n",
        "# e passando como argumentos os dados de treino \"df_train\" e os seus rótulos \"y_train\"\n",
        "df_train = xgb.DMatrix(X_train, label=y_train)\n",
        "\n",
        "# instanciando o objeto \"df_test\", para isso utilizamos a função \".DMatrix\" do XGBoost\n",
        "df_test = xgb.DMatrix(X_test)"
      ],
      "execution_count": 41,
      "outputs": []
    },
    {
      "cell_type": "code",
      "metadata": {
        "id": "O2a00SaVDmw2"
      },
      "source": [
        "# instanciando um dicionário com os parâmetros do primeiro modelo\n",
        "params_xgb = {'max_depth': 5,                               # profundidade máxima da árvore\n",
        "              'eta': 1,                                     # taxa de aprendizagem\n",
        "              'silent': 1,                                  # \n",
        "              'objective': 'binary:logistic',               # objetivo é binário - duas classes | 0 e 1\n",
        "              'eval_metric': 'auc', 'learning_rate': 0.5    #\n",
        "            }   "
      ],
      "execution_count": 42,
      "outputs": []
    },
    {
      "cell_type": "code",
      "metadata": {
        "id": "OphweRozDmu4"
      },
      "source": [
        "# instanciando um dicionário com os parâmetros do segundo modelo\n",
        "params_xgb2 = {\n",
        "    'n_estimators': 1300,\n",
        "    'max_depth': 6,\n",
        "    'min_child_weight': 4,\n",
        "    'subsample': 0.9,\n",
        "    'colsample_bynode': 0.5,\n",
        "    'random_state': 42, \n",
        "    'num_parallel_tree': 3,\n",
        "    'booster': 'gbtree',\n",
        "    'objective': 'binary:logistic',\n",
        "    'eval_metric': 'auc', 'learning_rate': 0.5 \n",
        "}                            "
      ],
      "execution_count": 43,
      "outputs": []
    },
    {
      "cell_type": "code",
      "metadata": {
        "id": "Ojfd0oFODmss"
      },
      "source": [
        "# definindo o número de treinamento\n",
        "num_round = 150\n",
        "\n",
        "# importando a função para contabilizar o tempo de treinbamento do modelo\n",
        "from datetime import datetime\n",
        "start = datetime.now()"
      ],
      "execution_count": 44,
      "outputs": []
    },
    {
      "cell_type": "code",
      "metadata": {
        "id": "pR812SBDDmqG"
      },
      "source": [
        "# treinando o primeiro modelo\n",
        "model_xgb = xgb.train(params_xgb, df_train, num_round)\n",
        "stop = datetime.now()"
      ],
      "execution_count": 45,
      "outputs": []
    },
    {
      "cell_type": "code",
      "metadata": {
        "colab": {
          "base_uri": "https://localhost:8080/"
        },
        "id": "LXx3Hg8_DmnX",
        "outputId": "49e3a9b2-067f-4f99-88d8-efd1cc0d3ef8"
      },
      "source": [
        "# visualizando o seu tempo de execução\n",
        "execution_time_xgb = stop - start\n",
        "execution_time_xgb"
      ],
      "execution_count": 46,
      "outputs": [
        {
          "output_type": "execute_result",
          "data": {
            "text/plain": [
              "datetime.timedelta(seconds=6, microseconds=907604)"
            ]
          },
          "metadata": {},
          "execution_count": 46
        }
      ]
    },
    {
      "cell_type": "code",
      "metadata": {
        "colab": {
          "base_uri": "https://localhost:8080/"
        },
        "id": "2Yqw09W87PLv",
        "outputId": "76dda358-ed76-4209-c7e0-048962590041"
      },
      "source": [
        "# realizando as predições\n",
        "y_pred_xgb = model_xgb.predict(df_test)\n",
        "\n",
        "# tamanho das predições realizadas\n",
        "y_pred_xgb.size"
      ],
      "execution_count": 47,
      "outputs": [
        {
          "output_type": "execute_result",
          "data": {
            "text/plain": [
              "6828"
            ]
          },
          "metadata": {},
          "execution_count": 47
        }
      ]
    },
    {
      "cell_type": "code",
      "metadata": {
        "colab": {
          "base_uri": "https://localhost:8080/"
        },
        "id": "dxgH96Vx7PH5",
        "outputId": "95e4053c-67f9-4db9-ec56-042eaebc4866"
      },
      "source": [
        "# visualizando as 10 primeiras predições\n",
        "y_pred_xgb[:10]"
      ],
      "execution_count": 48,
      "outputs": [
        {
          "output_type": "execute_result",
          "data": {
            "text/plain": [
              "array([1.7664319e-02, 3.5952751e-02, 5.0146064e-05, 6.6864068e-06,\n",
              "       3.5363398e-03, 1.7670996e-03, 1.2537113e-02, 4.7336085e-04,\n",
              "       1.2164262e-02, 7.4192993e-02], dtype=float32)"
            ]
          },
          "metadata": {},
          "execution_count": 48
        }
      ]
    },
    {
      "cell_type": "markdown",
      "metadata": {
        "id": "L6dYGkwuvm8K"
      },
      "source": [
        "> O modelo gera as probabilidades das instâncias pertence a classe 0 ou 1."
      ]
    },
    {
      "cell_type": "code",
      "metadata": {
        "id": "fcdCQWYZ7PJb"
      },
      "source": [
        "# realizando um \"for\" para definir o \"corte\" das probabilidades realizadas pelo modelo\n",
        "# e instanciando as classes\n",
        "for i in range(0, len(y_pred_xgb)):\n",
        "    if y_pred_xgb[i] >= 0.5:\n",
        "        y_pred_xgb[i] = 1\n",
        "    else:\n",
        "        y_pred_xgb[i] = 0"
      ],
      "execution_count": 49,
      "outputs": []
    },
    {
      "cell_type": "code",
      "metadata": {
        "id": "0dF7nT167PGM"
      },
      "source": [
        "# importando a biblioteca para avaliação do modelo\n",
        "from sklearn.metrics import accuracy_score"
      ],
      "execution_count": 50,
      "outputs": []
    },
    {
      "cell_type": "code",
      "metadata": {
        "colab": {
          "base_uri": "https://localhost:8080/"
        },
        "id": "7oTDASgv7PEb",
        "outputId": "3ad6a912-4b78-4de3-e7cb-d5f77ed233a1"
      },
      "source": [
        "# realizando avaliação do modelo\n",
        "acc_model_xgb = accuracy_score(y_pred_xgb, y_test)\n",
        "acc_model_xgb"
      ],
      "execution_count": 51,
      "outputs": [
        {
          "output_type": "execute_result",
          "data": {
            "text/plain": [
              "0.8598418277680141"
            ]
          },
          "metadata": {},
          "execution_count": 51
        }
      ]
    },
    {
      "cell_type": "markdown",
      "metadata": {
        "id": "ICVkuz6nJpox"
      },
      "source": [
        "**Aplicando o segundo modelo do `XGBoost` e _tunando_ alguns parâmetros.**"
      ]
    },
    {
      "cell_type": "code",
      "metadata": {
        "id": "MkbvYLJRWLHz"
      },
      "source": [
        "# treinando o segundo modelo\n",
        "model_xgb2 = xgb.train(params_xgb2, df_train, num_round)\n",
        "stop = datetime.now()"
      ],
      "execution_count": 52,
      "outputs": []
    },
    {
      "cell_type": "code",
      "metadata": {
        "colab": {
          "base_uri": "https://localhost:8080/"
        },
        "id": "Lllay56aWLFL",
        "outputId": "962c23e8-c62b-499d-a00d-2a192b4bea89"
      },
      "source": [
        "# visualizando o seu tempo de execução\n",
        "execution_time_xgb2 = stop - start\n",
        "execution_time_xgb2"
      ],
      "execution_count": 53,
      "outputs": [
        {
          "output_type": "execute_result",
          "data": {
            "text/plain": [
              "datetime.timedelta(seconds=21, microseconds=130740)"
            ]
          },
          "metadata": {},
          "execution_count": 53
        }
      ]
    },
    {
      "cell_type": "code",
      "metadata": {
        "colab": {
          "base_uri": "https://localhost:8080/"
        },
        "id": "BX9ZvUSkWLCR",
        "outputId": "727153b8-ff15-4849-bc30-b0067b2c5560"
      },
      "source": [
        "# realizando as predições\n",
        "y_pred_xgb2 = model_xgb2.predict(df_test)\n",
        "\n",
        "# tamanho das predições realizadas\n",
        "y_pred_xgb2.size"
      ],
      "execution_count": 54,
      "outputs": [
        {
          "output_type": "execute_result",
          "data": {
            "text/plain": [
              "6828"
            ]
          },
          "metadata": {},
          "execution_count": 54
        }
      ]
    },
    {
      "cell_type": "code",
      "metadata": {
        "colab": {
          "base_uri": "https://localhost:8080/"
        },
        "id": "EMnFmfLTN3KX",
        "outputId": "7075aea0-edf1-43c0-9091-e08dfc37c9eb"
      },
      "source": [
        "# visualizando as 10 primeiras predições\n",
        "y_pred_xgb2[:10]"
      ],
      "execution_count": 55,
      "outputs": [
        {
          "output_type": "execute_result",
          "data": {
            "text/plain": [
              "array([1.7675517e-02, 8.8805035e-03, 1.6268692e-04, 3.2910913e-05,\n",
              "       4.3476033e-03, 2.7056852e-02, 1.8937510e-02, 7.2737772e-04,\n",
              "       1.4821940e-02, 7.4927360e-02], dtype=float32)"
            ]
          },
          "metadata": {},
          "execution_count": 55
        }
      ]
    },
    {
      "cell_type": "code",
      "metadata": {
        "id": "Kb0823_jWK-9"
      },
      "source": [
        "# realizando um \"for\" para definir o \"corte\" das probabilidades realizadas pelo modelo\n",
        "# e instanciando as classes\n",
        "for i in range(0, len(y_pred_xgb2)):\n",
        "    if y_pred_xgb2[i] >= 0.5:\n",
        "        y_pred_xgb2[i] = 1\n",
        "    else:\n",
        "        y_pred_xgb2[i] = 0"
      ],
      "execution_count": 56,
      "outputs": []
    },
    {
      "cell_type": "code",
      "metadata": {
        "colab": {
          "base_uri": "https://localhost:8080/"
        },
        "id": "wbRcE8UeWK8I",
        "outputId": "c2636f8f-3930-443d-a932-6d1196a4dfd7"
      },
      "source": [
        "# realizando avaliação do modelo\n",
        "acc_model_xgb2 = accuracy_score(y_pred_xgb2, y_test)\n",
        "acc_model_xgb2"
      ],
      "execution_count": 57,
      "outputs": [
        {
          "output_type": "execute_result",
          "data": {
            "text/plain": [
              "0.8615992970123023"
            ]
          },
          "metadata": {},
          "execution_count": 57
        }
      ]
    },
    {
      "cell_type": "markdown",
      "metadata": {
        "id": "OnpLdKKdVNdM"
      },
      "source": [
        "### **LightGBM**"
      ]
    },
    {
      "cell_type": "markdown",
      "metadata": {
        "id": "OQMMxtSfxqEH"
      },
      "source": [
        "Já o algoritmo `LightGBM` trabalha com objeto do tipo \"_Dataset_\", para isso utilizamos a transformação dos dados com a função `.Dataset()`."
      ]
    },
    {
      "cell_type": "code",
      "metadata": {
        "id": "-AoN-ra47O-S"
      },
      "source": [
        "# instanciando o objeto \"train_data\", para isso utilizamos a função \".Dataset\" do LightGBM\n",
        "# e passando como argumentos os dados de treino \"X_train\" e os seus rótulos \"y_train\"\n",
        "train_data = lgb.Dataset(X_train, label=y_train)"
      ],
      "execution_count": 58,
      "outputs": []
    },
    {
      "cell_type": "code",
      "metadata": {
        "id": "dNSA2wP97O74"
      },
      "source": [
        "# instanciando os parãmetros do modelo\n",
        "params_lgb = {\n",
        "    'num_leaves': 150,\n",
        "    'objective': 'binary',\n",
        "    'max_depth': 6,\n",
        "    'learning_rate': 0.5,\n",
        "    'max_bin': 200\n",
        "}"
      ],
      "execution_count": 59,
      "outputs": []
    },
    {
      "cell_type": "code",
      "metadata": {
        "id": "aV9wtmW87O3c"
      },
      "source": [
        "# definindo as métricas de avaliação do modelo\n",
        "params_lgb['metric'] = ['auc', 'binary_logloss']"
      ],
      "execution_count": 60,
      "outputs": []
    },
    {
      "cell_type": "code",
      "metadata": {
        "id": "OPXC2LFP7O1z",
        "colab": {
          "base_uri": "https://localhost:8080/"
        },
        "outputId": "2c3dc523-5221-4a0f-f254-bdd35023e5d6"
      },
      "source": [
        "# definindo o número de treinamento\n",
        "num_round = 150\n",
        "\n",
        "# treinando o modelo e contabilizando o seu tempo de excução\n",
        "start = datetime.now()\n",
        "model_lgb = lgb.train(params_lgb, train_data, num_round)\n",
        "stop = datetime.now()\n",
        "\n",
        "# visualizando o tempo de excução\n",
        "execution_time_lgb = stop - start\n",
        "execution_time_lgb"
      ],
      "execution_count": 61,
      "outputs": [
        {
          "output_type": "execute_result",
          "data": {
            "text/plain": [
              "datetime.timedelta(microseconds=516948)"
            ]
          },
          "metadata": {},
          "execution_count": 61
        }
      ]
    },
    {
      "cell_type": "code",
      "metadata": {
        "colab": {
          "base_uri": "https://localhost:8080/"
        },
        "id": "4FgyAt0hZjzW",
        "outputId": "b43bcb29-bf2c-4d18-86f6-4bc1f24748c3"
      },
      "source": [
        "# realizando as predições\n",
        "y_pred_lgb = model_lgb.predict(X_test)\n",
        "y_pred_lgb.size"
      ],
      "execution_count": 62,
      "outputs": [
        {
          "output_type": "execute_result",
          "data": {
            "text/plain": [
              "6828"
            ]
          },
          "metadata": {},
          "execution_count": 62
        }
      ]
    },
    {
      "cell_type": "code",
      "metadata": {
        "colab": {
          "base_uri": "https://localhost:8080/"
        },
        "id": "bNZVXbgzaZoa",
        "outputId": "fd15491c-482a-442f-ca5c-9e619d6edd68"
      },
      "source": [
        "# visualizando as 10 primeiras predições\n",
        "y_pred_lgb[:10]"
      ],
      "execution_count": 63,
      "outputs": [
        {
          "output_type": "execute_result",
          "data": {
            "text/plain": [
              "array([7.48784718e-04, 4.74352795e-03, 4.48082288e-10, 4.92616431e-10,\n",
              "       6.85778359e-04, 1.12409469e-03, 1.08956121e-03, 4.59046026e-06,\n",
              "       1.77463467e-02, 2.03461296e-02])"
            ]
          },
          "metadata": {},
          "execution_count": 63
        }
      ]
    },
    {
      "cell_type": "code",
      "metadata": {
        "id": "GWHnNJ2Oan4R"
      },
      "source": [
        "# realizando um \"for\" para definir o \"corte\" das probabilidades realizadas pelo modelo\n",
        "# e instanciando as classes\n",
        "for i in range(0, len(y_pred_lgb)):\n",
        "    if y_pred_lgb[i] >= 0.5:\n",
        "        y_pred_lgb[i] = 1\n",
        "    else:\n",
        "        y_pred_lgb[i] = 0"
      ],
      "execution_count": 64,
      "outputs": []
    },
    {
      "cell_type": "code",
      "metadata": {
        "colab": {
          "base_uri": "https://localhost:8080/"
        },
        "id": "9NnqX1C47OzE",
        "outputId": "4b41fa65-a9c4-4e26-db8b-18d93b29385b"
      },
      "source": [
        "# avaliando o modelo\n",
        "acc_model_lgb = accuracy_score(y_pred_lgb, y_test)\n",
        "acc_model_lgb"
      ],
      "execution_count": 65,
      "outputs": [
        {
          "output_type": "execute_result",
          "data": {
            "text/plain": [
              "0.8579379027533685"
            ]
          },
          "metadata": {},
          "execution_count": 65
        }
      ]
    },
    {
      "cell_type": "markdown",
      "metadata": {
        "id": "4srQiFSRHAKz"
      },
      "source": [
        "**Aplicando o segundo modelo do `LightGBM` e _tunando_ alguns parâmetros.**"
      ]
    },
    {
      "cell_type": "code",
      "metadata": {
        "id": "IwPHvEy1FLDO"
      },
      "source": [
        "# segundo modelo do \"LigthGBM\"\n",
        "train_data = lgb.Dataset(X_train, y_train)\n",
        "test_data = lgb.Dataset(X_test, y_test, reference=train_data)"
      ],
      "execution_count": 66,
      "outputs": []
    },
    {
      "cell_type": "code",
      "metadata": {
        "id": "uRT3fkm5FLBW"
      },
      "source": [
        "params_lgb2 = {\n",
        "    'boosting_type': 'rf',\n",
        "    'objective': 'binary',\n",
        "    'metric': {'auc', 'binary_logloss'},\n",
        "    'num_leaves': 150,\n",
        "    'learning_rate': 0.05,\n",
        "    'feature_fraction': 0.9,\n",
        "    'bagging_fraction': 0.8,\n",
        "    'bagging_freq': 5,\n",
        "    'max_bin': 200,\n",
        "    'verbose': 0\n",
        "}"
      ],
      "execution_count": 67,
      "outputs": []
    },
    {
      "cell_type": "code",
      "metadata": {
        "colab": {
          "base_uri": "https://localhost:8080/"
        },
        "id": "ySbttDZrFK-o",
        "outputId": "03b66de9-b3c7-42f7-aaee-6a0ab03eb9f4"
      },
      "source": [
        "# visualizando os parâmetros do treinamento do modelo\n",
        "params_lgb2"
      ],
      "execution_count": 68,
      "outputs": [
        {
          "output_type": "execute_result",
          "data": {
            "text/plain": [
              "{'bagging_fraction': 0.8,\n",
              " 'bagging_freq': 5,\n",
              " 'boosting_type': 'rf',\n",
              " 'feature_fraction': 0.9,\n",
              " 'learning_rate': 0.05,\n",
              " 'max_bin': 200,\n",
              " 'metric': {'auc', 'binary_logloss'},\n",
              " 'num_leaves': 150,\n",
              " 'objective': 'binary',\n",
              " 'verbose': 0}"
            ]
          },
          "metadata": {},
          "execution_count": 68
        }
      ]
    },
    {
      "cell_type": "code",
      "metadata": {
        "colab": {
          "base_uri": "https://localhost:8080/"
        },
        "id": "IDt9eJ3tFK8e",
        "outputId": "d29c70b5-1ca5-42fa-ca0d-a7a277f64d5c"
      },
      "source": [
        "start = datetime.now()\n",
        "\n",
        "model_lgb2 = lgb.train(params_lgb2,\n",
        "                       train_data,\n",
        "                       num_boost_round=150,\n",
        "                       valid_sets=test_data,\n",
        "                       early_stopping_rounds=10)\n",
        "\n",
        "stop = datetime.now()\n",
        "\n",
        "execution_time_lgb2 = stop - start\n",
        "execution_time_lgb2"
      ],
      "execution_count": 69,
      "outputs": [
        {
          "output_type": "stream",
          "name": "stdout",
          "text": [
            "[1]\tvalid_0's binary_logloss: 0.355375\tvalid_0's auc: 0.895948\n",
            "Training until validation scores don't improve for 10 rounds.\n",
            "[2]\tvalid_0's binary_logloss: 0.340466\tvalid_0's auc: 0.905289\n",
            "[3]\tvalid_0's binary_logloss: 0.340573\tvalid_0's auc: 0.908471\n",
            "[4]\tvalid_0's binary_logloss: 0.338105\tvalid_0's auc: 0.910433\n",
            "[5]\tvalid_0's binary_logloss: 0.337871\tvalid_0's auc: 0.910542\n",
            "[6]\tvalid_0's binary_logloss: 0.334872\tvalid_0's auc: 0.911706\n",
            "[7]\tvalid_0's binary_logloss: 0.334585\tvalid_0's auc: 0.911572\n",
            "[8]\tvalid_0's binary_logloss: 0.333941\tvalid_0's auc: 0.912038\n",
            "[9]\tvalid_0's binary_logloss: 0.333723\tvalid_0's auc: 0.912247\n",
            "[10]\tvalid_0's binary_logloss: 0.333861\tvalid_0's auc: 0.911934\n",
            "[11]\tvalid_0's binary_logloss: 0.333522\tvalid_0's auc: 0.912379\n",
            "[12]\tvalid_0's binary_logloss: 0.333433\tvalid_0's auc: 0.912519\n",
            "[13]\tvalid_0's binary_logloss: 0.33357\tvalid_0's auc: 0.91241\n",
            "[14]\tvalid_0's binary_logloss: 0.333084\tvalid_0's auc: 0.912577\n",
            "[15]\tvalid_0's binary_logloss: 0.333487\tvalid_0's auc: 0.912388\n",
            "[16]\tvalid_0's binary_logloss: 0.33309\tvalid_0's auc: 0.912518\n",
            "[17]\tvalid_0's binary_logloss: 0.332448\tvalid_0's auc: 0.913252\n",
            "[18]\tvalid_0's binary_logloss: 0.331999\tvalid_0's auc: 0.913298\n",
            "[19]\tvalid_0's binary_logloss: 0.33169\tvalid_0's auc: 0.913518\n",
            "[20]\tvalid_0's binary_logloss: 0.331597\tvalid_0's auc: 0.91336\n",
            "[21]\tvalid_0's binary_logloss: 0.331065\tvalid_0's auc: 0.913663\n",
            "[22]\tvalid_0's binary_logloss: 0.331056\tvalid_0's auc: 0.913651\n",
            "[23]\tvalid_0's binary_logloss: 0.331052\tvalid_0's auc: 0.913589\n",
            "[24]\tvalid_0's binary_logloss: 0.331019\tvalid_0's auc: 0.913545\n",
            "[25]\tvalid_0's binary_logloss: 0.331337\tvalid_0's auc: 0.913733\n",
            "[26]\tvalid_0's binary_logloss: 0.330994\tvalid_0's auc: 0.913859\n",
            "[27]\tvalid_0's binary_logloss: 0.330965\tvalid_0's auc: 0.913927\n",
            "[28]\tvalid_0's binary_logloss: 0.331028\tvalid_0's auc: 0.913876\n",
            "[29]\tvalid_0's binary_logloss: 0.33119\tvalid_0's auc: 0.913762\n",
            "[30]\tvalid_0's binary_logloss: 0.330956\tvalid_0's auc: 0.913966\n",
            "[31]\tvalid_0's binary_logloss: 0.331144\tvalid_0's auc: 0.914097\n",
            "[32]\tvalid_0's binary_logloss: 0.330777\tvalid_0's auc: 0.914239\n",
            "[33]\tvalid_0's binary_logloss: 0.330649\tvalid_0's auc: 0.914195\n",
            "[34]\tvalid_0's binary_logloss: 0.330451\tvalid_0's auc: 0.914235\n",
            "[35]\tvalid_0's binary_logloss: 0.330229\tvalid_0's auc: 0.914316\n",
            "[36]\tvalid_0's binary_logloss: 0.330087\tvalid_0's auc: 0.914348\n",
            "[37]\tvalid_0's binary_logloss: 0.330389\tvalid_0's auc: 0.914319\n",
            "[38]\tvalid_0's binary_logloss: 0.330088\tvalid_0's auc: 0.914439\n",
            "[39]\tvalid_0's binary_logloss: 0.330478\tvalid_0's auc: 0.914369\n",
            "[40]\tvalid_0's binary_logloss: 0.330399\tvalid_0's auc: 0.914392\n",
            "[41]\tvalid_0's binary_logloss: 0.330352\tvalid_0's auc: 0.914405\n",
            "[42]\tvalid_0's binary_logloss: 0.330302\tvalid_0's auc: 0.91447\n",
            "[43]\tvalid_0's binary_logloss: 0.33009\tvalid_0's auc: 0.914509\n",
            "[44]\tvalid_0's binary_logloss: 0.330188\tvalid_0's auc: 0.914517\n",
            "[45]\tvalid_0's binary_logloss: 0.330237\tvalid_0's auc: 0.914534\n",
            "[46]\tvalid_0's binary_logloss: 0.330099\tvalid_0's auc: 0.914568\n",
            "Early stopping, best iteration is:\n",
            "[36]\tvalid_0's binary_logloss: 0.330087\tvalid_0's auc: 0.914348\n"
          ]
        },
        {
          "output_type": "execute_result",
          "data": {
            "text/plain": [
              "datetime.timedelta(microseconds=529672)"
            ]
          },
          "metadata": {},
          "execution_count": 69
        }
      ]
    },
    {
      "cell_type": "code",
      "metadata": {
        "colab": {
          "base_uri": "https://localhost:8080/"
        },
        "id": "wc_LdyDDFK52",
        "outputId": "b3dfeb8a-7c1e-4162-c5de-19fd8ee0952e"
      },
      "source": [
        "model_lgb2.save_model('model.txt')"
      ],
      "execution_count": 70,
      "outputs": [
        {
          "output_type": "execute_result",
          "data": {
            "text/plain": [
              "<lightgbm.basic.Booster at 0x7fdc01367310>"
            ]
          },
          "metadata": {},
          "execution_count": 70
        }
      ]
    },
    {
      "cell_type": "code",
      "metadata": {
        "id": "wgPVtlAJFK3D"
      },
      "source": [
        "y_pred_lgb2 = model_lgb2.predict(X_test, num_iteration=model_lgb2.best_iteration)"
      ],
      "execution_count": 71,
      "outputs": []
    },
    {
      "cell_type": "code",
      "metadata": {
        "id": "Y8JDZ55xFKvN"
      },
      "source": [
        "for i in range(0, len(y_pred_lgb2)):\n",
        "    if y_pred_lgb2[i] >= 0.5:\n",
        "        y_pred_lgb2[i] = 1\n",
        "    else:\n",
        "        y_pred_lgb2[i] = 0"
      ],
      "execution_count": 72,
      "outputs": []
    },
    {
      "cell_type": "code",
      "metadata": {
        "colab": {
          "base_uri": "https://localhost:8080/"
        },
        "id": "koYTVt8fGpec",
        "outputId": "25495e8c-fd69-4ee0-ca9b-cc494a7aff74"
      },
      "source": [
        "# avaliando o modelo\n",
        "acc_model_lgb2 = accuracy_score(y_pred_lgb2, y_test)\n",
        "acc_model_lgb2"
      ],
      "execution_count": 73,
      "outputs": [
        {
          "output_type": "execute_result",
          "data": {
            "text/plain": [
              "0.8580843585237259"
            ]
          },
          "metadata": {},
          "execution_count": 73
        }
      ]
    },
    {
      "cell_type": "markdown",
      "metadata": {
        "id": "knwTclRLJGeN"
      },
      "source": [
        "**Avaliando os modelos**"
      ]
    },
    {
      "cell_type": "code",
      "metadata": {
        "id": "PFP7zIpS7Owy"
      },
      "source": [
        "# importando a função para avaliação da acurácia da curva roc\n",
        "from sklearn.metrics import roc_auc_score"
      ],
      "execution_count": 74,
      "outputs": []
    },
    {
      "cell_type": "code",
      "metadata": {
        "colab": {
          "base_uri": "https://localhost:8080/"
        },
        "id": "k8gWQGWN7Oum",
        "outputId": "59f5550f-195a-4f28-b5d1-493aba2ac124"
      },
      "source": [
        "# visualizando a acurácia da curva roc do modelo \"model_xgb\"\n",
        "auc_xgb1 = roc_auc_score(y_pred_xgb, y_test)\n",
        "auc_xgb1"
      ],
      "execution_count": 75,
      "outputs": [
        {
          "output_type": "execute_result",
          "data": {
            "text/plain": [
              "0.8139195212856705"
            ]
          },
          "metadata": {},
          "execution_count": 75
        }
      ]
    },
    {
      "cell_type": "code",
      "metadata": {
        "colab": {
          "base_uri": "https://localhost:8080/"
        },
        "id": "h1muH7CV7Osw",
        "outputId": "313704e8-be21-4513-8d82-c56e1f798d73"
      },
      "source": [
        "# visualizando a acurácia da curva roc do modelo \"model_xgb2\"\n",
        "auc_xgb2 = roc_auc_score(y_pred_xgb2, y_test)\n",
        "auc_xgb2"
      ],
      "execution_count": 76,
      "outputs": [
        {
          "output_type": "execute_result",
          "data": {
            "text/plain": [
              "0.815924646681285"
            ]
          },
          "metadata": {},
          "execution_count": 76
        }
      ]
    },
    {
      "cell_type": "code",
      "metadata": {
        "colab": {
          "base_uri": "https://localhost:8080/"
        },
        "id": "YH8ROqbC7Oqb",
        "outputId": "2e457467-cf61-41f3-f77d-fd3bf586e881"
      },
      "source": [
        "# visualizando a acurácia da curva roc do modelo \"model_lgb\"\n",
        "auc_lgb = roc_auc_score(y_pred_lgb, y_test)\n",
        "auc_lgb"
      ],
      "execution_count": 77,
      "outputs": [
        {
          "output_type": "execute_result",
          "data": {
            "text/plain": [
              "0.8097668182614591"
            ]
          },
          "metadata": {},
          "execution_count": 77
        }
      ]
    },
    {
      "cell_type": "code",
      "metadata": {
        "colab": {
          "base_uri": "https://localhost:8080/"
        },
        "id": "kOD_p9tqKliP",
        "outputId": "b8139007-b12b-41e3-c0e5-8c130ab278e9"
      },
      "source": [
        "# visualizando a acurácia da curva roc do modelo \"model_lgb2\"\n",
        "auc_lgb2 = roc_auc_score(y_pred_lgb2, y_test)\n",
        "auc_lgb2"
      ],
      "execution_count": 78,
      "outputs": [
        {
          "output_type": "execute_result",
          "data": {
            "text/plain": [
              "0.809022574780489"
            ]
          },
          "metadata": {},
          "execution_count": 78
        }
      ]
    },
    {
      "cell_type": "code",
      "metadata": {
        "id": "iDKvHaC-7Oos"
      },
      "source": [
        "# instanciando um dicionário com os resultados dos modelos\n",
        "results_comparison = {\n",
        "    'accuracy score': (acc_model_xgb, acc_model_xgb2, acc_model_lgb, acc_model_lgb2),\n",
        "    'auc score': (auc_xgb1, auc_xgb2, auc_lgb, auc_lgb2), \n",
        "    'execution time': (execution_time_xgb , execution_time_xgb2, execution_time_lgb, execution_time_lgb2)\n",
        "}"
      ],
      "execution_count": 79,
      "outputs": []
    },
    {
      "cell_type": "code",
      "metadata": {
        "colab": {
          "base_uri": "https://localhost:8080/",
          "height": 175
        },
        "id": "-INfUszb7OmQ",
        "outputId": "0509c8e8-1143-4562-e65a-ab16904b60a0"
      },
      "source": [
        "# criando um dataframe com o dicionário dos resultados dos modelos\n",
        "df_results = pd.DataFrame(results_comparison, index=['XGBoost_1',\n",
        "                                                     'XGBoost_2',\n",
        "                                                     'LightGBM', \n",
        "                                                     'LightGBM_2'])\n",
        "\n",
        "# visualizando o dataframe criado\n",
        "df_results"
      ],
      "execution_count": 80,
      "outputs": [
        {
          "output_type": "execute_result",
          "data": {
            "text/html": [
              "<div>\n",
              "<style scoped>\n",
              "    .dataframe tbody tr th:only-of-type {\n",
              "        vertical-align: middle;\n",
              "    }\n",
              "\n",
              "    .dataframe tbody tr th {\n",
              "        vertical-align: top;\n",
              "    }\n",
              "\n",
              "    .dataframe thead th {\n",
              "        text-align: right;\n",
              "    }\n",
              "</style>\n",
              "<table border=\"1\" class=\"dataframe\">\n",
              "  <thead>\n",
              "    <tr style=\"text-align: right;\">\n",
              "      <th></th>\n",
              "      <th>accuracy score</th>\n",
              "      <th>auc score</th>\n",
              "      <th>execution time</th>\n",
              "    </tr>\n",
              "  </thead>\n",
              "  <tbody>\n",
              "    <tr>\n",
              "      <th>XGBoost_1</th>\n",
              "      <td>0.859842</td>\n",
              "      <td>0.813920</td>\n",
              "      <td>0 days 00:00:06.907604</td>\n",
              "    </tr>\n",
              "    <tr>\n",
              "      <th>XGBoost_2</th>\n",
              "      <td>0.861599</td>\n",
              "      <td>0.815925</td>\n",
              "      <td>0 days 00:00:21.130740</td>\n",
              "    </tr>\n",
              "    <tr>\n",
              "      <th>LightGBM</th>\n",
              "      <td>0.857938</td>\n",
              "      <td>0.809767</td>\n",
              "      <td>0 days 00:00:00.516948</td>\n",
              "    </tr>\n",
              "    <tr>\n",
              "      <th>LightGBM_2</th>\n",
              "      <td>0.858084</td>\n",
              "      <td>0.809023</td>\n",
              "      <td>0 days 00:00:00.529672</td>\n",
              "    </tr>\n",
              "  </tbody>\n",
              "</table>\n",
              "</div>"
            ],
            "text/plain": [
              "            accuracy score  auc score         execution time\n",
              "XGBoost_1         0.859842   0.813920 0 days 00:00:06.907604\n",
              "XGBoost_2         0.861599   0.815925 0 days 00:00:21.130740\n",
              "LightGBM          0.857938   0.809767 0 days 00:00:00.516948\n",
              "LightGBM_2        0.858084   0.809023 0 days 00:00:00.529672"
            ]
          },
          "metadata": {},
          "execution_count": 80
        }
      ]
    },
    {
      "cell_type": "markdown",
      "metadata": {
        "id": "pRe-X2utOmrO"
      },
      "source": [
        "> Veja que, praticamente as métricas dos modelos ficaram muito próximas uma das outras, pórem o destaque é em relação ao tempo de execução, onde o `LightGBM` foi muito superior ao _XGBoost_.\n"
      ]
    },
    {
      "cell_type": "code",
      "metadata": {
        "id": "8L_d8krl7OiB",
        "colab": {
          "base_uri": "https://localhost:8080/"
        },
        "outputId": "a2792143-cbf7-4f96-9e4a-00bba320b795"
      },
      "source": [
        "# salvando o \"melhor\" modelo, nesse caso o \"LightGBM\"\n",
        "model_lgb.save_model('model.txt')"
      ],
      "execution_count": 81,
      "outputs": [
        {
          "output_type": "execute_result",
          "data": {
            "text/plain": [
              "<lightgbm.basic.Booster at 0x7fdc013263d0>"
            ]
          },
          "metadata": {},
          "execution_count": 81
        }
      ]
    },
    {
      "cell_type": "code",
      "metadata": {
        "id": "fc4roXco7OgL"
      },
      "source": [
        "# instanciando o modelo em um arquivo \"json\"\n",
        "json_model = model_lgb.dump_model()"
      ],
      "execution_count": 82,
      "outputs": []
    },
    {
      "cell_type": "code",
      "metadata": {
        "id": "CknmdXrTSNJE"
      },
      "source": [
        "# criando um objeto com o modelo salvo\n",
        "model = lgb.Booster(model_file='model.txt') "
      ],
      "execution_count": 83,
      "outputs": []
    },
    {
      "cell_type": "code",
      "metadata": {
        "colab": {
          "base_uri": "https://localhost:8080/"
        },
        "id": "EzE2gj9sSNGG",
        "outputId": "6ca9535e-3c9a-473c-d2d4-fbbd58c6d8d5"
      },
      "source": [
        "# visualizando o objeto criado\n",
        "model"
      ],
      "execution_count": 84,
      "outputs": [
        {
          "output_type": "execute_result",
          "data": {
            "text/plain": [
              "<lightgbm.basic.Booster at 0x7fdc01072f90>"
            ]
          },
          "metadata": {},
          "execution_count": 84
        }
      ]
    },
    {
      "cell_type": "code",
      "metadata": {
        "id": "lS0vvBd1SNDf"
      },
      "source": [
        "# # realizando o download do arquivo\n",
        "# from google.colab import files \n",
        "# files.download('model.txt')"
      ],
      "execution_count": 85,
      "outputs": []
    },
    {
      "cell_type": "code",
      "metadata": {
        "id": "KsEeqPhHY4cg"
      },
      "source": [
        ""
      ],
      "execution_count": 85,
      "outputs": []
    },
    {
      "cell_type": "code",
      "metadata": {
        "id": "aYxT2cgGY4Nj"
      },
      "source": [
        ""
      ],
      "execution_count": 85,
      "outputs": []
    },
    {
      "cell_type": "code",
      "metadata": {
        "id": "Lr4IKRxmY4Jh"
      },
      "source": [
        ""
      ],
      "execution_count": 85,
      "outputs": []
    }
  ]
}