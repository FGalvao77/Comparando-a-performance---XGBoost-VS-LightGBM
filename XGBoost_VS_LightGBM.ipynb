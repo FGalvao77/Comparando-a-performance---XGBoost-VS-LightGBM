{
  "nbformat": 4,
  "nbformat_minor": 0,
  "metadata": {
    "colab": {
      "name": "XGBoost VS LightGBM.ipynb",
      "provenance": [],
      "collapsed_sections": [],
      "authorship_tag": "ABX9TyPAH+YCg3ZqPW1gpu6jCpg8",
      "include_colab_link": true
    },
    "kernelspec": {
      "name": "python3",
      "display_name": "Python 3"
    },
    "language_info": {
      "name": "python"
    }
  },
  "cells": [
    {
      "cell_type": "markdown",
      "metadata": {
        "id": "view-in-github",
        "colab_type": "text"
      },
      "source": [
        "<a href=\"https://colab.research.google.com/github/FGalvao77/Comparando-a-performance---XGBoost-VS-LightGBM/blob/main/XGBoost_VS_LightGBM.ipynb\" target=\"_parent\"><img src=\"https://colab.research.google.com/assets/colab-badge.svg\" alt=\"Open In Colab\"/></a>"
      ]
    },
    {
      "cell_type": "markdown",
      "metadata": {
        "id": "ebVtDETfoD_o"
      },
      "source": [
        "# **Comparando a performance - XGBoost VS LightGBM**"
      ]
    },
    {
      "cell_type": "markdown",
      "metadata": {
        "id": "OgGwC0vQwub8"
      },
      "source": [
        "> Iremos realizar a comparação entre os algoritmos `XGBoost` e `LightGBM` e, avaliar suas performances quanto algumas métricas e tempo de execução do algoritmo."
      ]
    },
    {
      "cell_type": "markdown",
      "metadata": {
        "id": "f5v0QA-PZcG5"
      },
      "source": [
        "**Documentação:**"
      ]
    },
    {
      "cell_type": "markdown",
      "metadata": {
        "id": "UK7uUWmDxC4C"
      },
      "source": [
        "- [XGBoost](https://xgboost.readthedocs.io/en/stable/)\n",
        "- [LightGBM](https://lightgbm.readthedocs.io/en/latest/)"
      ]
    },
    {
      "cell_type": "markdown",
      "metadata": {
        "id": "pP_Q5-rRIWpt"
      },
      "source": [
        "## **1. Instalando e importando as bibliotecas**"
      ]
    },
    {
      "cell_type": "code",
      "metadata": {
        "id": "Cc8kI8_lqzP-"
      },
      "source": [
        "# importando a biblioteca para ignorar \"erros\"\n",
        "from warnings import filterwarnings\n",
        "filterwarnings('ignore')"
      ],
      "execution_count": 1,
      "outputs": []
    },
    {
      "cell_type": "code",
      "metadata": {
        "colab": {
          "base_uri": "https://localhost:8080/"
        },
        "id": "lxfs13ReszWj",
        "outputId": "1885e900-d32a-41c3-9ee0-d485ad62729f"
      },
      "source": [
        "# instalando o \"XGBoot\"\n",
        "!pip install xgboost"
      ],
      "execution_count": 2,
      "outputs": [
        {
          "output_type": "stream",
          "name": "stdout",
          "text": [
            "Requirement already satisfied: xgboost in /usr/local/lib/python3.7/dist-packages (0.90)\n",
            "Requirement already satisfied: scipy in /usr/local/lib/python3.7/dist-packages (from xgboost) (1.4.1)\n",
            "Requirement already satisfied: numpy in /usr/local/lib/python3.7/dist-packages (from xgboost) (1.19.5)\n"
          ]
        }
      ]
    },
    {
      "cell_type": "code",
      "metadata": {
        "colab": {
          "base_uri": "https://localhost:8080/"
        },
        "id": "FLhWOgQCszkr",
        "outputId": "7b84df5a-d129-41ca-eceb-3130bbc34276"
      },
      "source": [
        "# instalando o \"LightGBM\"\n",
        "!pip install lightgbm"
      ],
      "execution_count": 3,
      "outputs": [
        {
          "output_type": "stream",
          "name": "stdout",
          "text": [
            "Requirement already satisfied: lightgbm in /usr/local/lib/python3.7/dist-packages (2.2.3)\n",
            "Requirement already satisfied: numpy in /usr/local/lib/python3.7/dist-packages (from lightgbm) (1.19.5)\n",
            "Requirement already satisfied: scikit-learn in /usr/local/lib/python3.7/dist-packages (from lightgbm) (1.0.1)\n",
            "Requirement already satisfied: scipy in /usr/local/lib/python3.7/dist-packages (from lightgbm) (1.4.1)\n",
            "Requirement already satisfied: threadpoolctl>=2.0.0 in /usr/local/lib/python3.7/dist-packages (from scikit-learn->lightgbm) (3.0.0)\n",
            "Requirement already satisfied: joblib>=0.11 in /usr/local/lib/python3.7/dist-packages (from scikit-learn->lightgbm) (1.1.0)\n"
          ]
        }
      ]
    },
    {
      "cell_type": "code",
      "metadata": {
        "id": "LQGPrCB8n7nh"
      },
      "source": [
        "# importando as biblioetcas\n",
        "import pandas as pd\n",
        "import numpy as np\n",
        "import lightgbm as lgb  \n",
        "import xgboost as xgb "
      ],
      "execution_count": 4,
      "outputs": []
    },
    {
      "cell_type": "markdown",
      "metadata": {
        "id": "fPMFK8QvIkD1"
      },
      "source": [
        "**Carregando e explorando o conjunto de dados**"
      ]
    },
    {
      "cell_type": "code",
      "metadata": {
        "colab": {
          "base_uri": "https://localhost:8080/"
        },
        "id": "nAOXaU9CyM8h",
        "outputId": "75b2656e-d607-486a-97a8-7937d77190ca"
      },
      "source": [
        "# carregando o conjunto de dados para dentro do ambiente do google colab\n",
        "!wget 'https://raw.githubusercontent.com/llSourcell/Best-Programming-Languages-for-Machine-Learning/master/adults.txt'"
      ],
      "execution_count": 5,
      "outputs": [
        {
          "output_type": "stream",
          "name": "stdout",
          "text": [
            "--2021-11-26 00:24:31--  https://raw.githubusercontent.com/llSourcell/Best-Programming-Languages-for-Machine-Learning/master/adults.txt\n",
            "Resolving raw.githubusercontent.com (raw.githubusercontent.com)... 185.199.108.133, 185.199.109.133, 185.199.110.133, ...\n",
            "Connecting to raw.githubusercontent.com (raw.githubusercontent.com)|185.199.108.133|:443... connected.\n",
            "HTTP request sent, awaiting response... 200 OK\n",
            "Length: 3518613 (3.4M) [text/plain]\n",
            "Saving to: ‘adults.txt.4’\n",
            "\n",
            "\radults.txt.4          0%[                    ]       0  --.-KB/s               \radults.txt.4        100%[===================>]   3.36M  --.-KB/s    in 0.02s   \n",
            "\n",
            "2021-11-26 00:24:31 (157 MB/s) - ‘adults.txt.4’ saved [3518613/3518613]\n",
            "\n"
          ]
        }
      ]
    },
    {
      "cell_type": "code",
      "metadata": {
        "colab": {
          "base_uri": "https://localhost:8080/",
          "height": 617
        },
        "id": "cw6ZOW4zufTT",
        "outputId": "fd80f0fb-d415-46f2-87a5-8d3eaf7e8321"
      },
      "source": [
        "# realizando a leitura do conjunto de dados e instanciando na variável \"df\"\n",
        "df = pd.read_csv('/content/adults.txt', sep=',')\n",
        "\n",
        "# visualizando o objeto criado\n",
        "df"
      ],
      "execution_count": 6,
      "outputs": [
        {
          "output_type": "execute_result",
          "data": {
            "text/html": [
              "<div>\n",
              "<style scoped>\n",
              "    .dataframe tbody tr th:only-of-type {\n",
              "        vertical-align: middle;\n",
              "    }\n",
              "\n",
              "    .dataframe tbody tr th {\n",
              "        vertical-align: top;\n",
              "    }\n",
              "\n",
              "    .dataframe thead th {\n",
              "        text-align: right;\n",
              "    }\n",
              "</style>\n",
              "<table border=\"1\" class=\"dataframe\">\n",
              "  <thead>\n",
              "    <tr style=\"text-align: right;\">\n",
              "      <th></th>\n",
              "      <th>age</th>\n",
              "      <th>workclass</th>\n",
              "      <th>final_weight</th>\n",
              "      <th>education</th>\n",
              "      <th>education_num</th>\n",
              "      <th>marital_status</th>\n",
              "      <th>occupation</th>\n",
              "      <th>relationship</th>\n",
              "      <th>race</th>\n",
              "      <th>sex</th>\n",
              "      <th>capital_gain</th>\n",
              "      <th>capital_loss</th>\n",
              "      <th>hours_per_week</th>\n",
              "      <th>native_country</th>\n",
              "      <th>salary</th>\n",
              "    </tr>\n",
              "  </thead>\n",
              "  <tbody>\n",
              "    <tr>\n",
              "      <th>0</th>\n",
              "      <td>39</td>\n",
              "      <td>State-gov</td>\n",
              "      <td>77516</td>\n",
              "      <td>Bachelors</td>\n",
              "      <td>13</td>\n",
              "      <td>Never-married</td>\n",
              "      <td>Adm-clerical</td>\n",
              "      <td>Not-in-family</td>\n",
              "      <td>White</td>\n",
              "      <td>Male</td>\n",
              "      <td>2174</td>\n",
              "      <td>0</td>\n",
              "      <td>40</td>\n",
              "      <td>United-States</td>\n",
              "      <td>&lt;=50K</td>\n",
              "    </tr>\n",
              "    <tr>\n",
              "      <th>1</th>\n",
              "      <td>50</td>\n",
              "      <td>Self-emp-not-inc</td>\n",
              "      <td>83311</td>\n",
              "      <td>Bachelors</td>\n",
              "      <td>13</td>\n",
              "      <td>Married-civ-spouse</td>\n",
              "      <td>Exec-managerial</td>\n",
              "      <td>Husband</td>\n",
              "      <td>White</td>\n",
              "      <td>Male</td>\n",
              "      <td>0</td>\n",
              "      <td>0</td>\n",
              "      <td>13</td>\n",
              "      <td>United-States</td>\n",
              "      <td>&lt;=50K</td>\n",
              "    </tr>\n",
              "    <tr>\n",
              "      <th>2</th>\n",
              "      <td>38</td>\n",
              "      <td>Private</td>\n",
              "      <td>215646</td>\n",
              "      <td>HS-grad</td>\n",
              "      <td>9</td>\n",
              "      <td>Divorced</td>\n",
              "      <td>Handlers-cleaners</td>\n",
              "      <td>Not-in-family</td>\n",
              "      <td>White</td>\n",
              "      <td>Male</td>\n",
              "      <td>0</td>\n",
              "      <td>0</td>\n",
              "      <td>40</td>\n",
              "      <td>United-States</td>\n",
              "      <td>&lt;=50K</td>\n",
              "    </tr>\n",
              "    <tr>\n",
              "      <th>3</th>\n",
              "      <td>53</td>\n",
              "      <td>Private</td>\n",
              "      <td>234721</td>\n",
              "      <td>11th</td>\n",
              "      <td>7</td>\n",
              "      <td>Married-civ-spouse</td>\n",
              "      <td>Handlers-cleaners</td>\n",
              "      <td>Husband</td>\n",
              "      <td>Black</td>\n",
              "      <td>Male</td>\n",
              "      <td>0</td>\n",
              "      <td>0</td>\n",
              "      <td>40</td>\n",
              "      <td>United-States</td>\n",
              "      <td>&lt;=50K</td>\n",
              "    </tr>\n",
              "    <tr>\n",
              "      <th>4</th>\n",
              "      <td>28</td>\n",
              "      <td>Private</td>\n",
              "      <td>338409</td>\n",
              "      <td>Bachelors</td>\n",
              "      <td>13</td>\n",
              "      <td>Married-civ-spouse</td>\n",
              "      <td>Prof-specialty</td>\n",
              "      <td>Wife</td>\n",
              "      <td>Black</td>\n",
              "      <td>Female</td>\n",
              "      <td>0</td>\n",
              "      <td>0</td>\n",
              "      <td>40</td>\n",
              "      <td>Cuba</td>\n",
              "      <td>&lt;=50K</td>\n",
              "    </tr>\n",
              "    <tr>\n",
              "      <th>...</th>\n",
              "      <td>...</td>\n",
              "      <td>...</td>\n",
              "      <td>...</td>\n",
              "      <td>...</td>\n",
              "      <td>...</td>\n",
              "      <td>...</td>\n",
              "      <td>...</td>\n",
              "      <td>...</td>\n",
              "      <td>...</td>\n",
              "      <td>...</td>\n",
              "      <td>...</td>\n",
              "      <td>...</td>\n",
              "      <td>...</td>\n",
              "      <td>...</td>\n",
              "      <td>...</td>\n",
              "    </tr>\n",
              "    <tr>\n",
              "      <th>32556</th>\n",
              "      <td>27</td>\n",
              "      <td>Private</td>\n",
              "      <td>257302</td>\n",
              "      <td>Assoc-acdm</td>\n",
              "      <td>12</td>\n",
              "      <td>Married-civ-spouse</td>\n",
              "      <td>Tech-support</td>\n",
              "      <td>Wife</td>\n",
              "      <td>White</td>\n",
              "      <td>Female</td>\n",
              "      <td>0</td>\n",
              "      <td>0</td>\n",
              "      <td>38</td>\n",
              "      <td>United-States</td>\n",
              "      <td>&lt;=50K</td>\n",
              "    </tr>\n",
              "    <tr>\n",
              "      <th>32557</th>\n",
              "      <td>40</td>\n",
              "      <td>Private</td>\n",
              "      <td>154374</td>\n",
              "      <td>HS-grad</td>\n",
              "      <td>9</td>\n",
              "      <td>Married-civ-spouse</td>\n",
              "      <td>Machine-op-inspct</td>\n",
              "      <td>Husband</td>\n",
              "      <td>White</td>\n",
              "      <td>Male</td>\n",
              "      <td>0</td>\n",
              "      <td>0</td>\n",
              "      <td>40</td>\n",
              "      <td>United-States</td>\n",
              "      <td>&gt;50K</td>\n",
              "    </tr>\n",
              "    <tr>\n",
              "      <th>32558</th>\n",
              "      <td>58</td>\n",
              "      <td>Private</td>\n",
              "      <td>151910</td>\n",
              "      <td>HS-grad</td>\n",
              "      <td>9</td>\n",
              "      <td>Widowed</td>\n",
              "      <td>Adm-clerical</td>\n",
              "      <td>Unmarried</td>\n",
              "      <td>White</td>\n",
              "      <td>Female</td>\n",
              "      <td>0</td>\n",
              "      <td>0</td>\n",
              "      <td>40</td>\n",
              "      <td>United-States</td>\n",
              "      <td>&lt;=50K</td>\n",
              "    </tr>\n",
              "    <tr>\n",
              "      <th>32559</th>\n",
              "      <td>22</td>\n",
              "      <td>Private</td>\n",
              "      <td>201490</td>\n",
              "      <td>HS-grad</td>\n",
              "      <td>9</td>\n",
              "      <td>Never-married</td>\n",
              "      <td>Adm-clerical</td>\n",
              "      <td>Own-child</td>\n",
              "      <td>White</td>\n",
              "      <td>Male</td>\n",
              "      <td>0</td>\n",
              "      <td>0</td>\n",
              "      <td>20</td>\n",
              "      <td>United-States</td>\n",
              "      <td>&lt;=50K</td>\n",
              "    </tr>\n",
              "    <tr>\n",
              "      <th>32560</th>\n",
              "      <td>52</td>\n",
              "      <td>Self-emp-inc</td>\n",
              "      <td>287927</td>\n",
              "      <td>HS-grad</td>\n",
              "      <td>9</td>\n",
              "      <td>Married-civ-spouse</td>\n",
              "      <td>Exec-managerial</td>\n",
              "      <td>Wife</td>\n",
              "      <td>White</td>\n",
              "      <td>Female</td>\n",
              "      <td>15024</td>\n",
              "      <td>0</td>\n",
              "      <td>40</td>\n",
              "      <td>United-States</td>\n",
              "      <td>&gt;50K</td>\n",
              "    </tr>\n",
              "  </tbody>\n",
              "</table>\n",
              "<p>32561 rows × 15 columns</p>\n",
              "</div>"
            ],
            "text/plain": [
              "       age         workclass  ...  native_country salary\n",
              "0       39         State-gov  ...   United-States  <=50K\n",
              "1       50  Self-emp-not-inc  ...   United-States  <=50K\n",
              "2       38           Private  ...   United-States  <=50K\n",
              "3       53           Private  ...   United-States  <=50K\n",
              "4       28           Private  ...            Cuba  <=50K\n",
              "...    ...               ...  ...             ...    ...\n",
              "32556   27           Private  ...   United-States  <=50K\n",
              "32557   40           Private  ...   United-States   >50K\n",
              "32558   58           Private  ...   United-States  <=50K\n",
              "32559   22           Private  ...   United-States  <=50K\n",
              "32560   52      Self-emp-inc  ...   United-States   >50K\n",
              "\n",
              "[32561 rows x 15 columns]"
            ]
          },
          "metadata": {},
          "execution_count": 6
        }
      ]
    },
    {
      "cell_type": "code",
      "metadata": {
        "colab": {
          "base_uri": "https://localhost:8080/"
        },
        "id": "P15ei_AuqzFF",
        "outputId": "623c3076-0cd1-4b62-9e21-c998397aa71f"
      },
      "source": [
        "# tipo do objeto criado\n",
        "type(df)"
      ],
      "execution_count": 7,
      "outputs": [
        {
          "output_type": "execute_result",
          "data": {
            "text/plain": [
              "pandas.core.frame.DataFrame"
            ]
          },
          "metadata": {},
          "execution_count": 7
        }
      ]
    },
    {
      "cell_type": "code",
      "metadata": {
        "colab": {
          "base_uri": "https://localhost:8080/"
        },
        "id": "L1eaVgaXqzC5",
        "outputId": "936fe08a-e6be-4980-f584-57ca85654d67"
      },
      "source": [
        "# nome das colunas\n",
        "df.columns"
      ],
      "execution_count": 8,
      "outputs": [
        {
          "output_type": "execute_result",
          "data": {
            "text/plain": [
              "Index(['age', 'workclass', 'final_weight', 'education', 'education_num',\n",
              "       'marital_status', 'occupation', 'relationship', 'race', 'sex',\n",
              "       'capital_gain', 'capital_loss', 'hours_per_week', 'native_country',\n",
              "       'salary'],\n",
              "      dtype='object')"
            ]
          },
          "metadata": {},
          "execution_count": 8
        }
      ]
    },
    {
      "cell_type": "code",
      "metadata": {
        "colab": {
          "base_uri": "https://localhost:8080/"
        },
        "id": "AKlak657qzBA",
        "outputId": "47d439c5-2879-46c7-b43f-82bbda5482db"
      },
      "source": [
        "# informações gerais\n",
        "df.info()"
      ],
      "execution_count": 9,
      "outputs": [
        {
          "output_type": "stream",
          "name": "stdout",
          "text": [
            "<class 'pandas.core.frame.DataFrame'>\n",
            "RangeIndex: 32561 entries, 0 to 32560\n",
            "Data columns (total 15 columns):\n",
            " #   Column          Non-Null Count  Dtype \n",
            "---  ------          --------------  ----- \n",
            " 0   age             32561 non-null  int64 \n",
            " 1   workclass       32561 non-null  object\n",
            " 2   final_weight    32561 non-null  int64 \n",
            " 3   education       32561 non-null  object\n",
            " 4   education_num   32561 non-null  int64 \n",
            " 5   marital_status  32561 non-null  object\n",
            " 6   occupation      32561 non-null  object\n",
            " 7   relationship    32561 non-null  object\n",
            " 8   race            32561 non-null  object\n",
            " 9   sex             32561 non-null  object\n",
            " 10  capital_gain    32561 non-null  int64 \n",
            " 11  capital_loss    32561 non-null  int64 \n",
            " 12  hours_per_week  32561 non-null  int64 \n",
            " 13  native_country  32561 non-null  object\n",
            " 14  salary          32561 non-null  object\n",
            "dtypes: int64(6), object(9)\n",
            "memory usage: 3.7+ MB\n"
          ]
        }
      ]
    },
    {
      "cell_type": "markdown",
      "metadata": {
        "id": "2snOepaLk6Fg"
      },
      "source": [
        "**O nosso desafio é prever dados alguns atributos qual o salário de um colaborador, portanto um problema de _classificação_**\n",
        "\n",
        "Vamos explorar a nosso variável alvo, nesse caso o `salary` entender as condições da mesma."
      ]
    },
    {
      "cell_type": "code",
      "metadata": {
        "colab": {
          "base_uri": "https://localhost:8080/"
        },
        "id": "gEHcvT-v3Dus",
        "outputId": "49c0d9c3-609f-47ec-f552-bcd1c85b35ec"
      },
      "source": [
        "# visualizando as instâncias únicas da variável alvo\n",
        "df['salary'].unique()"
      ],
      "execution_count": 10,
      "outputs": [
        {
          "output_type": "execute_result",
          "data": {
            "text/plain": [
              "array(['<=50K', '>50K'], dtype=object)"
            ]
          },
          "metadata": {},
          "execution_count": 10
        }
      ]
    },
    {
      "cell_type": "code",
      "metadata": {
        "colab": {
          "base_uri": "https://localhost:8080/"
        },
        "id": "SBFRY5Pvqy_p",
        "outputId": "ab7eed02-e869-41a0-aba2-af00a02a31b0"
      },
      "source": [
        "# contabilizando as instâncias únicas da variável alvo\n",
        "df['salary'].value_counts()"
      ],
      "execution_count": 11,
      "outputs": [
        {
          "output_type": "execute_result",
          "data": {
            "text/plain": [
              "<=50K    24720\n",
              ">50K      7841\n",
              "Name: salary, dtype: int64"
            ]
          },
          "metadata": {},
          "execution_count": 11
        }
      ]
    },
    {
      "cell_type": "markdown",
      "metadata": {
        "id": "zTjV8ZI9l0pn"
      },
      "source": [
        "> Perceba que, a variável alvo possui dado do tipo _object_, ou seja, caracteres (strings). E sua relação é categórica:    \n",
        "- salário maior e/ou igual a 50 mil (`<=50K`) e,\n",
        "- salário menor que 50 mil (`>50K`).\n",
        "\n",
        "É necessário realizarmos um tratamento em nossa variável alvo, transformando-a para do tipo numérica."
      ]
    },
    {
      "cell_type": "markdown",
      "metadata": {
        "id": "AZjDlP_TJDP2"
      },
      "source": [
        "## **2. Pré-processamento dos dados**"
      ]
    },
    {
      "cell_type": "code",
      "metadata": {
        "id": "dUKxoOM0ufNn"
      },
      "source": [
        "# importando a biblioteca para tratamento da variável alvo\n",
        "from sklearn.preprocessing import LabelEncoder, OneHotEncoder"
      ],
      "execution_count": 12,
      "outputs": []
    },
    {
      "cell_type": "code",
      "metadata": {
        "colab": {
          "base_uri": "https://localhost:8080/"
        },
        "id": "q0GCafRiufLB",
        "outputId": "d460b7bd-f2be-45af-c38c-1ae8477901c1"
      },
      "source": [
        "# instanciando a função no objeto \"lb\"\n",
        "lb = LabelEncoder()\n",
        "\n",
        "# aplicando a função na variável alvo\n",
        "lb.fit(df['salary'])"
      ],
      "execution_count": 13,
      "outputs": [
        {
          "output_type": "execute_result",
          "data": {
            "text/plain": [
              "LabelEncoder()"
            ]
          },
          "metadata": {},
          "execution_count": 13
        }
      ]
    },
    {
      "cell_type": "markdown",
      "metadata": {
        "id": "O7broLt4J2C-"
      },
      "source": [
        "> O `LabelEncoder` transformará as instâncias em classes."
      ]
    },
    {
      "cell_type": "code",
      "metadata": {
        "colab": {
          "base_uri": "https://localhost:8080/"
        },
        "id": "nJSE4VPC152E",
        "outputId": "cac3d781-0372-4dd1-c542-d0a4ff367d09"
      },
      "source": [
        "# visualizando as classes criadas\n",
        "lb.classes_"
      ],
      "execution_count": 14,
      "outputs": [
        {
          "output_type": "execute_result",
          "data": {
            "text/plain": [
              "array(['<=50K', '>50K'], dtype=object)"
            ]
          },
          "metadata": {},
          "execution_count": 14
        }
      ]
    },
    {
      "cell_type": "code",
      "metadata": {
        "colab": {
          "base_uri": "https://localhost:8080/"
        },
        "id": "afb4N-EIufIg",
        "outputId": "dfb2e6b3-aced-4148-8d47-6a2d284c6e85"
      },
      "source": [
        "# contabilizando as instâncias presentes\n",
        "df['salary'].value_counts()"
      ],
      "execution_count": 15,
      "outputs": [
        {
          "output_type": "execute_result",
          "data": {
            "text/plain": [
              "<=50K    24720\n",
              ">50K      7841\n",
              "Name: salary, dtype: int64"
            ]
          },
          "metadata": {},
          "execution_count": 15
        }
      ]
    },
    {
      "cell_type": "code",
      "metadata": {
        "id": "lQvpWeZ7ufGT"
      },
      "source": [
        "# aplicando a transformação das classes para tipo numérico\n",
        "# para isso, utilizamos a função \".transform()\" e juntamente com a função do pandas \".Series()\"\n",
        "df['salary'] = pd.Series(lb.transform(df['salary']))"
      ],
      "execution_count": 16,
      "outputs": []
    },
    {
      "cell_type": "code",
      "metadata": {
        "colab": {
          "base_uri": "https://localhost:8080/"
        },
        "id": "wxKPEq5SufCg",
        "outputId": "c7c9fb39-c5ce-4e35-e365-53e9a177e411"
      },
      "source": [
        "# visualizando e contabilizando a transformação realizada\n",
        "df['salary'].value_counts()"
      ],
      "execution_count": 17,
      "outputs": [
        {
          "output_type": "execute_result",
          "data": {
            "text/plain": [
              "0    24720\n",
              "1     7841\n",
              "Name: salary, dtype: int64"
            ]
          },
          "metadata": {},
          "execution_count": 17
        }
      ]
    },
    {
      "cell_type": "code",
      "metadata": {
        "colab": {
          "base_uri": "https://localhost:8080/"
        },
        "id": "rxlt7BXRue_y",
        "outputId": "fcb55b15-71aa-4725-e099-c278f496a3da"
      },
      "source": [
        "# informações gerais\n",
        "df.info()"
      ],
      "execution_count": 18,
      "outputs": [
        {
          "output_type": "stream",
          "name": "stdout",
          "text": [
            "<class 'pandas.core.frame.DataFrame'>\n",
            "RangeIndex: 32561 entries, 0 to 32560\n",
            "Data columns (total 15 columns):\n",
            " #   Column          Non-Null Count  Dtype \n",
            "---  ------          --------------  ----- \n",
            " 0   age             32561 non-null  int64 \n",
            " 1   workclass       32561 non-null  object\n",
            " 2   final_weight    32561 non-null  int64 \n",
            " 3   education       32561 non-null  object\n",
            " 4   education_num   32561 non-null  int64 \n",
            " 5   marital_status  32561 non-null  object\n",
            " 6   occupation      32561 non-null  object\n",
            " 7   relationship    32561 non-null  object\n",
            " 8   race            32561 non-null  object\n",
            " 9   sex             32561 non-null  object\n",
            " 10  capital_gain    32561 non-null  int64 \n",
            " 11  capital_loss    32561 non-null  int64 \n",
            " 12  hours_per_week  32561 non-null  int64 \n",
            " 13  native_country  32561 non-null  object\n",
            " 14  salary          32561 non-null  int64 \n",
            "dtypes: int64(7), object(8)\n",
            "memory usage: 3.7+ MB\n"
          ]
        }
      ]
    },
    {
      "cell_type": "code",
      "metadata": {
        "colab": {
          "base_uri": "https://localhost:8080/"
        },
        "id": "-7RGGq-QYia-",
        "outputId": "49fe15d6-36fd-4c77-cbac-0b9ec19c8994"
      },
      "source": [
        "# visualizando as instâncias únicas dos atributos\n",
        "df.nunique()"
      ],
      "execution_count": 19,
      "outputs": [
        {
          "output_type": "execute_result",
          "data": {
            "text/plain": [
              "age                  73\n",
              "workclass             9\n",
              "final_weight      21648\n",
              "education            16\n",
              "education_num        16\n",
              "marital_status        7\n",
              "occupation           15\n",
              "relationship          6\n",
              "race                  5\n",
              "sex                   2\n",
              "capital_gain        119\n",
              "capital_loss         92\n",
              "hours_per_week       94\n",
              "native_country       42\n",
              "salary                2\n",
              "dtype: int64"
            ]
          },
          "metadata": {},
          "execution_count": 19
        }
      ]
    },
    {
      "cell_type": "code",
      "metadata": {
        "colab": {
          "base_uri": "https://localhost:8080/"
        },
        "id": "_VyOTvY4jL3E",
        "outputId": "ea3eeef0-9840-4055-b7e8-98e62a1f6b27"
      },
      "source": [
        "# visualizando as instâncias únicas do atributo \"workclass\"\n",
        "df['workclass'].unique()"
      ],
      "execution_count": 20,
      "outputs": [
        {
          "output_type": "execute_result",
          "data": {
            "text/plain": [
              "array(['State-gov', 'Self-emp-not-inc', 'Private', 'Federal-gov',\n",
              "       'Local-gov', '?', 'Self-emp-inc', 'Without-pay', 'Never-worked'],\n",
              "      dtype=object)"
            ]
          },
          "metadata": {},
          "execution_count": 20
        }
      ]
    },
    {
      "cell_type": "code",
      "metadata": {
        "colab": {
          "base_uri": "https://localhost:8080/"
        },
        "id": "MD5lxutkjLwE",
        "outputId": "3fb9d254-1972-457b-c729-2432fdd1ca44"
      },
      "source": [
        "# contabilizando a frequência absoluta (%) das instãncias do atributo \"workclass\"\n",
        "df['workclass'].value_counts(normalize=True) * 100"
      ],
      "execution_count": 21,
      "outputs": [
        {
          "output_type": "execute_result",
          "data": {
            "text/plain": [
              "Private             69.703019\n",
              "Self-emp-not-inc     7.803814\n",
              "Local-gov            6.427935\n",
              "?                    5.638647\n",
              "State-gov            3.986364\n",
              "Self-emp-inc         3.427413\n",
              "Federal-gov          2.948312\n",
              "Without-pay          0.042996\n",
              "Never-worked         0.021498\n",
              "Name: workclass, dtype: float64"
            ]
          },
          "metadata": {},
          "execution_count": 21
        }
      ]
    },
    {
      "cell_type": "markdown",
      "metadata": {
        "id": "d55UmIhznT-n"
      },
      "source": [
        "> Perceba que, temos uma instância atribuida de \"`?`\" e, portanto devemos tratar desse problema."
      ]
    },
    {
      "cell_type": "code",
      "metadata": {
        "colab": {
          "base_uri": "https://localhost:8080/",
          "height": 35
        },
        "id": "zqlMte54jUDM",
        "outputId": "a27e3a26-1dab-4089-cd82-dbc78e4d3b4b"
      },
      "source": [
        "# visualizando a instância mais frequente (moda)\n",
        "moda = df['workclass'].value_counts().idxmax()\n",
        "moda"
      ],
      "execution_count": 22,
      "outputs": [
        {
          "output_type": "execute_result",
          "data": {
            "application/vnd.google.colaboratory.intrinsic+json": {
              "type": "string"
            },
            "text/plain": [
              "'Private'"
            ]
          },
          "metadata": {},
          "execution_count": 22
        }
      ]
    },
    {
      "cell_type": "code",
      "metadata": {
        "colab": {
          "base_uri": "https://localhost:8080/"
        },
        "id": "-6eshO-Wl53e",
        "outputId": "61bbc88c-7eba-4e9b-902e-5012638eb048"
      },
      "source": [
        "# realizando a substituição do caracter \"?\" pelo valor da moda, nesse caso \"Private\"\n",
        "df['workclass'] = df['workclass'].apply(lambda x: x.replace('?','Private'))\n",
        "df['workclass'].unique()"
      ],
      "execution_count": 23,
      "outputs": [
        {
          "output_type": "execute_result",
          "data": {
            "text/plain": [
              "array(['State-gov', 'Self-emp-not-inc', 'Private', 'Federal-gov',\n",
              "       'Local-gov', 'Self-emp-inc', 'Without-pay', 'Never-worked'],\n",
              "      dtype=object)"
            ]
          },
          "metadata": {},
          "execution_count": 23
        }
      ]
    },
    {
      "cell_type": "markdown",
      "metadata": {
        "id": "cl6dqA0ZoNa0"
      },
      "source": [
        "**Agora temos que realizar um tratamento para as demais _variáveis categóricas_.**"
      ]
    },
    {
      "cell_type": "code",
      "metadata": {
        "colab": {
          "base_uri": "https://localhost:8080/",
          "height": 424
        },
        "id": "qvwiBQst7yu7",
        "outputId": "08285828-ffd0-428c-fdde-5909c89ecc13"
      },
      "source": [
        "# instanciando as variáveis categóricas\n",
        "vars_cat = [col for col in df if df[col].dtype.name == 'object']\n",
        "\n",
        "# visualizando as variáveis categóricas\n",
        "df[vars_cat]"
      ],
      "execution_count": 24,
      "outputs": [
        {
          "output_type": "execute_result",
          "data": {
            "text/html": [
              "<div>\n",
              "<style scoped>\n",
              "    .dataframe tbody tr th:only-of-type {\n",
              "        vertical-align: middle;\n",
              "    }\n",
              "\n",
              "    .dataframe tbody tr th {\n",
              "        vertical-align: top;\n",
              "    }\n",
              "\n",
              "    .dataframe thead th {\n",
              "        text-align: right;\n",
              "    }\n",
              "</style>\n",
              "<table border=\"1\" class=\"dataframe\">\n",
              "  <thead>\n",
              "    <tr style=\"text-align: right;\">\n",
              "      <th></th>\n",
              "      <th>workclass</th>\n",
              "      <th>education</th>\n",
              "      <th>marital_status</th>\n",
              "      <th>occupation</th>\n",
              "      <th>relationship</th>\n",
              "      <th>race</th>\n",
              "      <th>sex</th>\n",
              "      <th>native_country</th>\n",
              "    </tr>\n",
              "  </thead>\n",
              "  <tbody>\n",
              "    <tr>\n",
              "      <th>0</th>\n",
              "      <td>State-gov</td>\n",
              "      <td>Bachelors</td>\n",
              "      <td>Never-married</td>\n",
              "      <td>Adm-clerical</td>\n",
              "      <td>Not-in-family</td>\n",
              "      <td>White</td>\n",
              "      <td>Male</td>\n",
              "      <td>United-States</td>\n",
              "    </tr>\n",
              "    <tr>\n",
              "      <th>1</th>\n",
              "      <td>Self-emp-not-inc</td>\n",
              "      <td>Bachelors</td>\n",
              "      <td>Married-civ-spouse</td>\n",
              "      <td>Exec-managerial</td>\n",
              "      <td>Husband</td>\n",
              "      <td>White</td>\n",
              "      <td>Male</td>\n",
              "      <td>United-States</td>\n",
              "    </tr>\n",
              "    <tr>\n",
              "      <th>2</th>\n",
              "      <td>Private</td>\n",
              "      <td>HS-grad</td>\n",
              "      <td>Divorced</td>\n",
              "      <td>Handlers-cleaners</td>\n",
              "      <td>Not-in-family</td>\n",
              "      <td>White</td>\n",
              "      <td>Male</td>\n",
              "      <td>United-States</td>\n",
              "    </tr>\n",
              "    <tr>\n",
              "      <th>3</th>\n",
              "      <td>Private</td>\n",
              "      <td>11th</td>\n",
              "      <td>Married-civ-spouse</td>\n",
              "      <td>Handlers-cleaners</td>\n",
              "      <td>Husband</td>\n",
              "      <td>Black</td>\n",
              "      <td>Male</td>\n",
              "      <td>United-States</td>\n",
              "    </tr>\n",
              "    <tr>\n",
              "      <th>4</th>\n",
              "      <td>Private</td>\n",
              "      <td>Bachelors</td>\n",
              "      <td>Married-civ-spouse</td>\n",
              "      <td>Prof-specialty</td>\n",
              "      <td>Wife</td>\n",
              "      <td>Black</td>\n",
              "      <td>Female</td>\n",
              "      <td>Cuba</td>\n",
              "    </tr>\n",
              "    <tr>\n",
              "      <th>...</th>\n",
              "      <td>...</td>\n",
              "      <td>...</td>\n",
              "      <td>...</td>\n",
              "      <td>...</td>\n",
              "      <td>...</td>\n",
              "      <td>...</td>\n",
              "      <td>...</td>\n",
              "      <td>...</td>\n",
              "    </tr>\n",
              "    <tr>\n",
              "      <th>32556</th>\n",
              "      <td>Private</td>\n",
              "      <td>Assoc-acdm</td>\n",
              "      <td>Married-civ-spouse</td>\n",
              "      <td>Tech-support</td>\n",
              "      <td>Wife</td>\n",
              "      <td>White</td>\n",
              "      <td>Female</td>\n",
              "      <td>United-States</td>\n",
              "    </tr>\n",
              "    <tr>\n",
              "      <th>32557</th>\n",
              "      <td>Private</td>\n",
              "      <td>HS-grad</td>\n",
              "      <td>Married-civ-spouse</td>\n",
              "      <td>Machine-op-inspct</td>\n",
              "      <td>Husband</td>\n",
              "      <td>White</td>\n",
              "      <td>Male</td>\n",
              "      <td>United-States</td>\n",
              "    </tr>\n",
              "    <tr>\n",
              "      <th>32558</th>\n",
              "      <td>Private</td>\n",
              "      <td>HS-grad</td>\n",
              "      <td>Widowed</td>\n",
              "      <td>Adm-clerical</td>\n",
              "      <td>Unmarried</td>\n",
              "      <td>White</td>\n",
              "      <td>Female</td>\n",
              "      <td>United-States</td>\n",
              "    </tr>\n",
              "    <tr>\n",
              "      <th>32559</th>\n",
              "      <td>Private</td>\n",
              "      <td>HS-grad</td>\n",
              "      <td>Never-married</td>\n",
              "      <td>Adm-clerical</td>\n",
              "      <td>Own-child</td>\n",
              "      <td>White</td>\n",
              "      <td>Male</td>\n",
              "      <td>United-States</td>\n",
              "    </tr>\n",
              "    <tr>\n",
              "      <th>32560</th>\n",
              "      <td>Self-emp-inc</td>\n",
              "      <td>HS-grad</td>\n",
              "      <td>Married-civ-spouse</td>\n",
              "      <td>Exec-managerial</td>\n",
              "      <td>Wife</td>\n",
              "      <td>White</td>\n",
              "      <td>Female</td>\n",
              "      <td>United-States</td>\n",
              "    </tr>\n",
              "  </tbody>\n",
              "</table>\n",
              "<p>32561 rows × 8 columns</p>\n",
              "</div>"
            ],
            "text/plain": [
              "              workclass   education  ...     sex native_country\n",
              "0             State-gov   Bachelors  ...    Male  United-States\n",
              "1      Self-emp-not-inc   Bachelors  ...    Male  United-States\n",
              "2               Private     HS-grad  ...    Male  United-States\n",
              "3               Private        11th  ...    Male  United-States\n",
              "4               Private   Bachelors  ...  Female           Cuba\n",
              "...                 ...         ...  ...     ...            ...\n",
              "32556           Private  Assoc-acdm  ...  Female  United-States\n",
              "32557           Private     HS-grad  ...    Male  United-States\n",
              "32558           Private     HS-grad  ...  Female  United-States\n",
              "32559           Private     HS-grad  ...    Male  United-States\n",
              "32560      Self-emp-inc     HS-grad  ...  Female  United-States\n",
              "\n",
              "[32561 rows x 8 columns]"
            ]
          },
          "metadata": {},
          "execution_count": 24
        }
      ]
    },
    {
      "cell_type": "markdown",
      "metadata": {
        "id": "MM6I1-L_odEb"
      },
      "source": [
        "> Para essa etapa, iremos aplicar a função do pandas `.get_dummies` que irar transformar as variáveis categóricas."
      ]
    },
    {
      "cell_type": "code",
      "metadata": {
        "id": "g_77Ve7h9YEc"
      },
      "source": [
        "# instanciando cada atributo e realizando a transformação necessária\n",
        "ohe_workclass = pd.get_dummies(df[vars_cat[0]])\n",
        "ohe_education = pd.get_dummies(df[vars_cat[1]])\n",
        "ohe_marital_status = pd.get_dummies(df[vars_cat[2]])\n",
        "ohe_occupation = pd.get_dummies(df[vars_cat[3]])\n",
        "ohe_relationship = pd.get_dummies(df[vars_cat[4]])\n",
        "ohe_race = pd.get_dummies(df[vars_cat[5]])\n",
        "ohe_sex = pd.get_dummies(df[vars_cat[6]])\n",
        "ohe_native_country = pd.get_dummies(df[vars_cat[7]])"
      ],
      "execution_count": 25,
      "outputs": []
    },
    {
      "cell_type": "code",
      "metadata": {
        "colab": {
          "base_uri": "https://localhost:8080/",
          "height": 424
        },
        "id": "m6Q9ruPj9YB1",
        "outputId": "73b119a5-90aa-44e0-be11-df7a0ff4a03e"
      },
      "source": [
        "# visualizando o primeiro objeto e as transformações realizadas\n",
        "ohe_workclass"
      ],
      "execution_count": 26,
      "outputs": [
        {
          "output_type": "execute_result",
          "data": {
            "text/html": [
              "<div>\n",
              "<style scoped>\n",
              "    .dataframe tbody tr th:only-of-type {\n",
              "        vertical-align: middle;\n",
              "    }\n",
              "\n",
              "    .dataframe tbody tr th {\n",
              "        vertical-align: top;\n",
              "    }\n",
              "\n",
              "    .dataframe thead th {\n",
              "        text-align: right;\n",
              "    }\n",
              "</style>\n",
              "<table border=\"1\" class=\"dataframe\">\n",
              "  <thead>\n",
              "    <tr style=\"text-align: right;\">\n",
              "      <th></th>\n",
              "      <th>Federal-gov</th>\n",
              "      <th>Local-gov</th>\n",
              "      <th>Never-worked</th>\n",
              "      <th>Private</th>\n",
              "      <th>Self-emp-inc</th>\n",
              "      <th>Self-emp-not-inc</th>\n",
              "      <th>State-gov</th>\n",
              "      <th>Without-pay</th>\n",
              "    </tr>\n",
              "  </thead>\n",
              "  <tbody>\n",
              "    <tr>\n",
              "      <th>0</th>\n",
              "      <td>0</td>\n",
              "      <td>0</td>\n",
              "      <td>0</td>\n",
              "      <td>0</td>\n",
              "      <td>0</td>\n",
              "      <td>0</td>\n",
              "      <td>1</td>\n",
              "      <td>0</td>\n",
              "    </tr>\n",
              "    <tr>\n",
              "      <th>1</th>\n",
              "      <td>0</td>\n",
              "      <td>0</td>\n",
              "      <td>0</td>\n",
              "      <td>0</td>\n",
              "      <td>0</td>\n",
              "      <td>1</td>\n",
              "      <td>0</td>\n",
              "      <td>0</td>\n",
              "    </tr>\n",
              "    <tr>\n",
              "      <th>2</th>\n",
              "      <td>0</td>\n",
              "      <td>0</td>\n",
              "      <td>0</td>\n",
              "      <td>1</td>\n",
              "      <td>0</td>\n",
              "      <td>0</td>\n",
              "      <td>0</td>\n",
              "      <td>0</td>\n",
              "    </tr>\n",
              "    <tr>\n",
              "      <th>3</th>\n",
              "      <td>0</td>\n",
              "      <td>0</td>\n",
              "      <td>0</td>\n",
              "      <td>1</td>\n",
              "      <td>0</td>\n",
              "      <td>0</td>\n",
              "      <td>0</td>\n",
              "      <td>0</td>\n",
              "    </tr>\n",
              "    <tr>\n",
              "      <th>4</th>\n",
              "      <td>0</td>\n",
              "      <td>0</td>\n",
              "      <td>0</td>\n",
              "      <td>1</td>\n",
              "      <td>0</td>\n",
              "      <td>0</td>\n",
              "      <td>0</td>\n",
              "      <td>0</td>\n",
              "    </tr>\n",
              "    <tr>\n",
              "      <th>...</th>\n",
              "      <td>...</td>\n",
              "      <td>...</td>\n",
              "      <td>...</td>\n",
              "      <td>...</td>\n",
              "      <td>...</td>\n",
              "      <td>...</td>\n",
              "      <td>...</td>\n",
              "      <td>...</td>\n",
              "    </tr>\n",
              "    <tr>\n",
              "      <th>32556</th>\n",
              "      <td>0</td>\n",
              "      <td>0</td>\n",
              "      <td>0</td>\n",
              "      <td>1</td>\n",
              "      <td>0</td>\n",
              "      <td>0</td>\n",
              "      <td>0</td>\n",
              "      <td>0</td>\n",
              "    </tr>\n",
              "    <tr>\n",
              "      <th>32557</th>\n",
              "      <td>0</td>\n",
              "      <td>0</td>\n",
              "      <td>0</td>\n",
              "      <td>1</td>\n",
              "      <td>0</td>\n",
              "      <td>0</td>\n",
              "      <td>0</td>\n",
              "      <td>0</td>\n",
              "    </tr>\n",
              "    <tr>\n",
              "      <th>32558</th>\n",
              "      <td>0</td>\n",
              "      <td>0</td>\n",
              "      <td>0</td>\n",
              "      <td>1</td>\n",
              "      <td>0</td>\n",
              "      <td>0</td>\n",
              "      <td>0</td>\n",
              "      <td>0</td>\n",
              "    </tr>\n",
              "    <tr>\n",
              "      <th>32559</th>\n",
              "      <td>0</td>\n",
              "      <td>0</td>\n",
              "      <td>0</td>\n",
              "      <td>1</td>\n",
              "      <td>0</td>\n",
              "      <td>0</td>\n",
              "      <td>0</td>\n",
              "      <td>0</td>\n",
              "    </tr>\n",
              "    <tr>\n",
              "      <th>32560</th>\n",
              "      <td>0</td>\n",
              "      <td>0</td>\n",
              "      <td>0</td>\n",
              "      <td>0</td>\n",
              "      <td>1</td>\n",
              "      <td>0</td>\n",
              "      <td>0</td>\n",
              "      <td>0</td>\n",
              "    </tr>\n",
              "  </tbody>\n",
              "</table>\n",
              "<p>32561 rows × 8 columns</p>\n",
              "</div>"
            ],
            "text/plain": [
              "       Federal-gov  Local-gov  ...  State-gov  Without-pay\n",
              "0                0          0  ...          1            0\n",
              "1                0          0  ...          0            0\n",
              "2                0          0  ...          0            0\n",
              "3                0          0  ...          0            0\n",
              "4                0          0  ...          0            0\n",
              "...            ...        ...  ...        ...          ...\n",
              "32556            0          0  ...          0            0\n",
              "32557            0          0  ...          0            0\n",
              "32558            0          0  ...          0            0\n",
              "32559            0          0  ...          0            0\n",
              "32560            0          0  ...          0            0\n",
              "\n",
              "[32561 rows x 8 columns]"
            ]
          },
          "metadata": {},
          "execution_count": 26
        }
      ]
    },
    {
      "cell_type": "markdown",
      "metadata": {
        "id": "BfP2YRnkKooW"
      },
      "source": [
        "> Foi criado um atributo relacionado com cada uma das instâncias presentes na coluna."
      ]
    },
    {
      "cell_type": "code",
      "metadata": {
        "id": "CPpJ6Om59X_0"
      },
      "source": [
        "# concatenado as transformações realizadas juntamente com o \"df\" e instanciando em um novo objeto \"df2\"\n",
        "df2 = pd.concat([df, ohe_workclass, ohe_education, ohe_marital_status, ohe_occupation, ohe_relationship, \n",
        "               ohe_race, ohe_sex, ohe_native_country], axis=1)"
      ],
      "execution_count": 27,
      "outputs": []
    },
    {
      "cell_type": "code",
      "metadata": {
        "id": "xQ0j_x1oJa8I"
      },
      "source": [
        "# removendo as variáveis que não faz mais sentido, já que as mesmas foram tratadas\n",
        "df2.drop(['education', 'marital_status', 'native_country', 'occupation', \n",
        "                'race', 'relationship', 'sex', 'workclass'], \n",
        "               axis=1, inplace=True)"
      ],
      "execution_count": 28,
      "outputs": []
    },
    {
      "cell_type": "code",
      "metadata": {
        "colab": {
          "base_uri": "https://localhost:8080/"
        },
        "id": "5snxiWC29X9b",
        "outputId": "99a88047-6c39-4835-8828-95bb4c6e6721"
      },
      "source": [
        "# informações gerais\n",
        "df2.info()"
      ],
      "execution_count": 29,
      "outputs": [
        {
          "output_type": "stream",
          "name": "stdout",
          "text": [
            "<class 'pandas.core.frame.DataFrame'>\n",
            "RangeIndex: 32561 entries, 0 to 32560\n",
            "Columns: 108 entries, age to Yugoslavia\n",
            "dtypes: int64(7), uint8(101)\n",
            "memory usage: 4.9 MB\n"
          ]
        }
      ]
    },
    {
      "cell_type": "code",
      "metadata": {
        "colab": {
          "base_uri": "https://localhost:8080/"
        },
        "id": "-dG0kvCD9X7v",
        "outputId": "e48d92dc-0568-48b5-c361-da59b644a36c"
      },
      "source": [
        "# visualizando os atributos presentes no objeto \"df2\" até a coluna 50a \n",
        "df2.columns[:50]"
      ],
      "execution_count": 30,
      "outputs": [
        {
          "output_type": "execute_result",
          "data": {
            "text/plain": [
              "Index(['age', 'final_weight', 'education_num', 'capital_gain', 'capital_loss',\n",
              "       'hours_per_week', 'salary', 'Federal-gov', 'Local-gov', 'Never-worked',\n",
              "       'Private', 'Self-emp-inc', 'Self-emp-not-inc', 'State-gov',\n",
              "       'Without-pay', '10th', '11th', '12th', '1st-4th', '5th-6th', '7th-8th',\n",
              "       '9th', 'Assoc-acdm', 'Assoc-voc', 'Bachelors', 'Doctorate', 'HS-grad',\n",
              "       'Masters', 'Preschool', 'Prof-school', 'Some-college', 'Divorced',\n",
              "       'Married-AF-spouse', 'Married-civ-spouse', 'Married-spouse-absent',\n",
              "       'Never-married', 'Separated', 'Widowed', '?', 'Adm-clerical',\n",
              "       'Armed-Forces', 'Craft-repair', 'Exec-managerial', 'Farming-fishing',\n",
              "       'Handlers-cleaners', 'Machine-op-inspct', 'Other-service',\n",
              "       'Priv-house-serv', 'Prof-specialty', 'Protective-serv'],\n",
              "      dtype='object')"
            ]
          },
          "metadata": {},
          "execution_count": 30
        }
      ]
    },
    {
      "cell_type": "code",
      "metadata": {
        "colab": {
          "base_uri": "https://localhost:8080/"
        },
        "id": "nj4sVc2w9X5S",
        "outputId": "95b94949-162d-459b-949b-05bf10f4eec4"
      },
      "source": [
        "# visualizando os demais atributos presentes da coluna 50a em diante\n",
        "df2.columns[50:]"
      ],
      "execution_count": 31,
      "outputs": [
        {
          "output_type": "execute_result",
          "data": {
            "text/plain": [
              "Index(['Sales', 'Tech-support', 'Transport-moving', 'Husband', 'Not-in-family',\n",
              "       'Other-relative', 'Own-child', 'Unmarried', 'Wife',\n",
              "       'Amer-Indian-Eskimo', 'Asian-Pac-Islander', 'Black', 'Other', 'White',\n",
              "       'Female', 'Male', '?', 'Cambodia', 'Canada', 'China', 'Columbia',\n",
              "       'Cuba', 'Dominican-Republic', 'Ecuador', 'El-Salvador', 'England',\n",
              "       'France', 'Germany', 'Greece', 'Guatemala', 'Haiti',\n",
              "       'Holand-Netherlands', 'Honduras', 'Hong', 'Hungary', 'India', 'Iran',\n",
              "       'Ireland', 'Italy', 'Jamaica', 'Japan', 'Laos', 'Mexico', 'Nicaragua',\n",
              "       'Outlying-US(Guam-USVI-etc)', 'Peru', 'Philippines', 'Poland',\n",
              "       'Portugal', 'Puerto-Rico', 'Scotland', 'South', 'Taiwan', 'Thailand',\n",
              "       'Trinadad&Tobago', 'United-States', 'Vietnam', 'Yugoslavia'],\n",
              "      dtype='object')"
            ]
          },
          "metadata": {},
          "execution_count": 31
        }
      ]
    },
    {
      "cell_type": "code",
      "metadata": {
        "colab": {
          "base_uri": "https://localhost:8080/"
        },
        "id": "fIPOeS1I9X3H",
        "outputId": "fe491948-d761-4b43-e0fc-a9ad89bcef46"
      },
      "source": [
        "# visualizando novamente a variável alvo\n",
        "df2['salary']"
      ],
      "execution_count": 32,
      "outputs": [
        {
          "output_type": "execute_result",
          "data": {
            "text/plain": [
              "0        0\n",
              "1        0\n",
              "2        0\n",
              "3        0\n",
              "4        0\n",
              "        ..\n",
              "32556    0\n",
              "32557    1\n",
              "32558    0\n",
              "32559    0\n",
              "32560    1\n",
              "Name: salary, Length: 32561, dtype: int64"
            ]
          },
          "metadata": {},
          "execution_count": 32
        }
      ]
    },
    {
      "cell_type": "code",
      "metadata": {
        "colab": {
          "base_uri": "https://localhost:8080/"
        },
        "id": "aYbZp4N49X1R",
        "outputId": "aa4afd44-9b04-4deb-b339-c6e2966319f9"
      },
      "source": [
        "# contabilizando a presença de dados duplicados\n",
        "df2.duplicated().sum()"
      ],
      "execution_count": 33,
      "outputs": [
        {
          "output_type": "execute_result",
          "data": {
            "text/plain": [
              "24"
            ]
          },
          "metadata": {},
          "execution_count": 33
        }
      ]
    },
    {
      "cell_type": "code",
      "metadata": {
        "id": "OdWeds6X9XzM"
      },
      "source": [
        "# removendo dados duplicados\n",
        "df2.drop_duplicates(keep=False, inplace=True)"
      ],
      "execution_count": 34,
      "outputs": []
    },
    {
      "cell_type": "code",
      "metadata": {
        "colab": {
          "base_uri": "https://localhost:8080/"
        },
        "id": "1X7-_79SDnAR",
        "outputId": "7419d1c5-c5a4-4594-b2db-549c0b59cd6a"
      },
      "source": [
        "# contabilizando a presença de dados duplicados apoś o tratamento\n",
        "df2.duplicated().sum()"
      ],
      "execution_count": 35,
      "outputs": [
        {
          "output_type": "execute_result",
          "data": {
            "text/plain": [
              "0"
            ]
          },
          "metadata": {},
          "execution_count": 35
        }
      ]
    },
    {
      "cell_type": "code",
      "metadata": {
        "id": "zwa-OjjPDm8g"
      },
      "source": [
        "# contabilizando a quantidade de atributos presentes no \"df2\"\n",
        "_, i = np.unique(df2.columns, return_index=True)\n",
        "\n",
        "df2 = df2.iloc[:, i]"
      ],
      "execution_count": 36,
      "outputs": []
    },
    {
      "cell_type": "code",
      "metadata": {
        "colab": {
          "base_uri": "https://localhost:8080/"
        },
        "id": "UxC9xgo6Dm5d",
        "outputId": "7659f4c7-c947-47ba-f23b-8b637bfc8156"
      },
      "source": [
        "# informações gerais\n",
        "df2.info()"
      ],
      "execution_count": 37,
      "outputs": [
        {
          "output_type": "stream",
          "name": "stdout",
          "text": [
            "<class 'pandas.core.frame.DataFrame'>\n",
            "Int64Index: 32514 entries, 0 to 32560\n",
            "Columns: 107 entries, 10th to salary\n",
            "dtypes: int64(7), uint8(100)\n",
            "memory usage: 5.1 MB\n"
          ]
        }
      ]
    },
    {
      "cell_type": "code",
      "metadata": {
        "colab": {
          "base_uri": "https://localhost:8080/"
        },
        "id": "IPUeM5JGG1WB",
        "outputId": "1b93c13d-778f-44d7-93ff-286b1a3fd7f0"
      },
      "source": [
        "# realizando o particionamento dos dados para treino/validação e teste final\n",
        "data = df2.sample(frac=0.7, random_state=42)\n",
        "val_data = df2.drop(data.index)\n",
        "\n",
        "# resetando os índices\n",
        "data.reset_index(drop=True, inplace=True)\n",
        "val_data.reset_index(drop=True, inplace=True)\n",
        "\n",
        "# visualizando a dimensão do particionamento dos dados\n",
        "print('Data for Modeling: ' + str(data.shape))\n",
        "print('Unseen Data For Predictions: ' + str(val_data.shape))"
      ],
      "execution_count": 38,
      "outputs": [
        {
          "output_type": "stream",
          "name": "stdout",
          "text": [
            "Data for Modeling: (22760, 107)\n",
            "Unseen Data For Predictions: (9754, 107)\n"
          ]
        }
      ]
    },
    {
      "cell_type": "code",
      "metadata": {
        "id": "ooMfElE-GGUn"
      },
      "source": [
        "# instanciando as variáveis explicativas (X) e a resposta (y)\n",
        "X = data.drop('salary', axis=1)\n",
        "y = data['salary']"
      ],
      "execution_count": 39,
      "outputs": []
    },
    {
      "cell_type": "code",
      "metadata": {
        "colab": {
          "base_uri": "https://localhost:8080/"
        },
        "id": "NwERqwAOHXbx",
        "outputId": "1875f9e4-076f-4c4a-d152-5354da50088e"
      },
      "source": [
        "# visualizando a dimensão do objeto\n",
        "X.shape"
      ],
      "execution_count": 40,
      "outputs": [
        {
          "output_type": "execute_result",
          "data": {
            "text/plain": [
              "(22760, 106)"
            ]
          },
          "metadata": {},
          "execution_count": 40
        }
      ]
    },
    {
      "cell_type": "code",
      "metadata": {
        "colab": {
          "base_uri": "https://localhost:8080/"
        },
        "id": "BShWka7sHzDq",
        "outputId": "260d4f6d-320b-4645-fe90-529054c05e58"
      },
      "source": [
        "# contabilizando a presença de valores \"NaN\" na varável \"y\" (alvo)\n",
        "y.isna().sum()"
      ],
      "execution_count": 41,
      "outputs": [
        {
          "output_type": "execute_result",
          "data": {
            "text/plain": [
              "0"
            ]
          },
          "metadata": {},
          "execution_count": 41
        }
      ]
    },
    {
      "cell_type": "markdown",
      "metadata": {
        "id": "YXm5xCkDrPbp"
      },
      "source": [
        "> Não há valores `NaN`.\n",
        "\n",
        "Mas se no caso houvesse poderíamos utilizar alguma estratégia para tratar o problema, como:    \n",
        "- remover as linhas com valores do tipo `NaN'.\n",
        " - esse tipo de ação pode gerar a perda considerável de dados.\n",
        "- e preencher com algum valor presente no atributo:    \n",
        " - média;\n",
        " - mediana e,\n",
        " - moda."
      ]
    },
    {
      "cell_type": "code",
      "metadata": {
        "id": "7DXHSPr9Dm01"
      },
      "source": [
        "# aplicando o preenchimento com a moda\n",
        "y.fillna(y.mode()[0], inplace=True)"
      ],
      "execution_count": 42,
      "outputs": []
    },
    {
      "cell_type": "code",
      "metadata": {
        "id": "12RVbiZy5SJw"
      },
      "source": [
        "# importando a biblioteca para realizar a partição do conjunto de dados\n",
        "from sklearn.model_selection import train_test_split"
      ],
      "execution_count": 43,
      "outputs": []
    },
    {
      "cell_type": "code",
      "metadata": {
        "id": "ZToZbh7WDm4I"
      },
      "source": [
        "# particionando os dados em treino e teste\n",
        "X_train, X_test, y_train, y_test = train_test_split(X, y, \n",
        "                                                      test_size=0.3,\n",
        "                                                      random_state=42)"
      ],
      "execution_count": 44,
      "outputs": []
    },
    {
      "cell_type": "code",
      "metadata": {
        "colab": {
          "base_uri": "https://localhost:8080/"
        },
        "id": "5cwCakmLDm2f",
        "outputId": "42eb903f-d31e-441d-9860-117034081cf0"
      },
      "source": [
        "# visualizando a dimensão do particionamento dos dados\n",
        "X_train.shape, X_test.shape, y_train.shape, y_test.shape"
      ],
      "execution_count": 45,
      "outputs": [
        {
          "output_type": "execute_result",
          "data": {
            "text/plain": [
              "((15932, 106), (6828, 106), (15932,), (6828,))"
            ]
          },
          "metadata": {},
          "execution_count": 45
        }
      ]
    },
    {
      "cell_type": "markdown",
      "metadata": {
        "id": "FMb03n40L2o2"
      },
      "source": [
        "## **3. Modelagem e avaliação do modelo**"
      ]
    },
    {
      "cell_type": "markdown",
      "metadata": {
        "id": "kTV0o-hYIj6w"
      },
      "source": [
        "### **XGBoost**\n",
        "\n",
        "\n"
      ]
    },
    {
      "cell_type": "markdown",
      "metadata": {
        "id": "l0r__UertuXn"
      },
      "source": [
        "Antes de aplicar o algoritmo `XGBoost` é necessário realizar uma transformação nas bases de dados, pois o modelo trabalha com matrizes.\n",
        "\n",
        "Para isso, utilizamos a função `.DMatrix()`."
      ]
    },
    {
      "cell_type": "code",
      "metadata": {
        "id": "nWE5y76rDmzX"
      },
      "source": [
        "# instanciando o objeto \"df_train\", para isso utilizamos a função \".DMatrix\" do XGBoost\n",
        "# e passando como argumentos os dados de treino \"df_train\" e os seus rótulos \"y_train\"\n",
        "df_train = xgb.DMatrix(X_train, label=y_train)\n",
        "\n",
        "# instanciando o objeto \"df_test\", para isso utilizamos a função \".DMatrix\" do XGBoost\n",
        "df_test = xgb.DMatrix(X_test)"
      ],
      "execution_count": 46,
      "outputs": []
    },
    {
      "cell_type": "code",
      "metadata": {
        "id": "O2a00SaVDmw2"
      },
      "source": [
        "# instanciando um dicionário com os parâmetros do primeiro modelo\n",
        "params_xgb = {'max_depth': 5,                               # profundidade máxima da árvore\n",
        "              'eta': 1,                                     # taxa de aprendizagem\n",
        "              'silent': 1,                                  # \n",
        "              'objective': 'binary:logistic',               # objetivo é binário - duas classes | 0 e 1\n",
        "              'eval_metric': 'auc', 'learning_rate': 0.5    #\n",
        "            }   "
      ],
      "execution_count": 47,
      "outputs": []
    },
    {
      "cell_type": "code",
      "metadata": {
        "id": "OphweRozDmu4"
      },
      "source": [
        "# instanciando um dicionário com os parâmetros do segundo modelo\n",
        "params_xgb2 = {\n",
        "    'n_estimators': 1300,\n",
        "    'max_depth': 6,\n",
        "    'min_child_weight': 4,\n",
        "    'subsample': 0.9,\n",
        "    'colsample_bynode': 0.5,\n",
        "    'random_state': 42, \n",
        "    'num_parallel_tree': 3,\n",
        "    'booster': 'gbtree',\n",
        "    'objective': 'binary:logistic',\n",
        "    'eval_metric': 'auc', 'learning_rate': 0.5 \n",
        "}                            "
      ],
      "execution_count": 48,
      "outputs": []
    },
    {
      "cell_type": "code",
      "metadata": {
        "id": "Ojfd0oFODmss"
      },
      "source": [
        "# definindo o número de treinamento\n",
        "num_round = 150\n",
        "\n",
        "# importando a função para contabilizar o tempo de treinbamento do modelo\n",
        "from datetime import datetime\n",
        "start = datetime.now()"
      ],
      "execution_count": 49,
      "outputs": []
    },
    {
      "cell_type": "code",
      "metadata": {
        "id": "pR812SBDDmqG"
      },
      "source": [
        "# treinando o primeiro modelo\n",
        "model_xgb = xgb.train(params_xgb, df_train, num_round)\n",
        "stop = datetime.now()"
      ],
      "execution_count": 50,
      "outputs": []
    },
    {
      "cell_type": "code",
      "metadata": {
        "colab": {
          "base_uri": "https://localhost:8080/"
        },
        "id": "LXx3Hg8_DmnX",
        "outputId": "2d3e81c2-7644-4ff3-aa6c-4b377f98be95"
      },
      "source": [
        "# visualizando o seu tempo de execução\n",
        "execution_time_xgb = stop - start\n",
        "execution_time_xgb"
      ],
      "execution_count": 51,
      "outputs": [
        {
          "output_type": "execute_result",
          "data": {
            "text/plain": [
              "datetime.timedelta(seconds=7, microseconds=17011)"
            ]
          },
          "metadata": {},
          "execution_count": 51
        }
      ]
    },
    {
      "cell_type": "code",
      "metadata": {
        "colab": {
          "base_uri": "https://localhost:8080/"
        },
        "id": "2Yqw09W87PLv",
        "outputId": "3488120d-897b-4a8c-fdb5-bf872648d37d"
      },
      "source": [
        "# realizando as predições\n",
        "y_pred_xgb = model_xgb.predict(df_test)\n",
        "\n",
        "# tamanho das predições realizadas\n",
        "y_pred_xgb.size"
      ],
      "execution_count": 52,
      "outputs": [
        {
          "output_type": "execute_result",
          "data": {
            "text/plain": [
              "6828"
            ]
          },
          "metadata": {},
          "execution_count": 52
        }
      ]
    },
    {
      "cell_type": "code",
      "metadata": {
        "colab": {
          "base_uri": "https://localhost:8080/"
        },
        "id": "dxgH96Vx7PH5",
        "outputId": "e11593db-931d-4f6c-8717-7ef1a96c0801"
      },
      "source": [
        "# visualizando as 10 primeiras predições\n",
        "y_pred_xgb[:10]"
      ],
      "execution_count": 53,
      "outputs": [
        {
          "output_type": "execute_result",
          "data": {
            "text/plain": [
              "array([4.9780652e-02, 7.6236590e-03, 1.3620844e-04, 8.8696692e-07,\n",
              "       1.1847151e-02, 4.4916971e-03, 2.0786809e-02, 5.0980458e-04,\n",
              "       5.7433289e-03, 2.6179215e-02], dtype=float32)"
            ]
          },
          "metadata": {},
          "execution_count": 53
        }
      ]
    },
    {
      "cell_type": "markdown",
      "metadata": {
        "id": "L6dYGkwuvm8K"
      },
      "source": [
        "> O modelo gera as probabilidades das instâncias pertence a classe 0 ou 1."
      ]
    },
    {
      "cell_type": "code",
      "metadata": {
        "id": "fcdCQWYZ7PJb"
      },
      "source": [
        "# realizando um \"for\" para definir o \"corte\" das probabilidades realizadas pelo modelo\n",
        "# e instanciando as classes\n",
        "for i in range(0, len(y_pred_xgb)):\n",
        "    if y_pred_xgb[i] >= 0.5:\n",
        "        y_pred_xgb[i] = 1\n",
        "    else:\n",
        "        y_pred_xgb[i] = 0"
      ],
      "execution_count": 54,
      "outputs": []
    },
    {
      "cell_type": "code",
      "metadata": {
        "id": "0dF7nT167PGM"
      },
      "source": [
        "# importando a biblioteca para avaliação do modelo\n",
        "from sklearn.metrics import accuracy_score"
      ],
      "execution_count": 55,
      "outputs": []
    },
    {
      "cell_type": "code",
      "metadata": {
        "colab": {
          "base_uri": "https://localhost:8080/"
        },
        "id": "7oTDASgv7PEb",
        "outputId": "ec9cc8b1-cc03-4c63-9ba5-cb0df3ce76b1"
      },
      "source": [
        "# realizando avaliação do modelo\n",
        "acc_model_xgb = accuracy_score(y_pred_xgb, y_test)\n",
        "acc_model_xgb"
      ],
      "execution_count": 56,
      "outputs": [
        {
          "output_type": "execute_result",
          "data": {
            "text/plain": [
              "0.8615992970123023"
            ]
          },
          "metadata": {},
          "execution_count": 56
        }
      ]
    },
    {
      "cell_type": "markdown",
      "metadata": {
        "id": "ICVkuz6nJpox"
      },
      "source": [
        "**Aplicando o segundo modelo do `XGBoost` e _tunando_ alguns parâmetros.**"
      ]
    },
    {
      "cell_type": "code",
      "metadata": {
        "id": "MkbvYLJRWLHz"
      },
      "source": [
        "# treinando o segundo modelo\n",
        "model_xgb2 = xgb.train(params_xgb2, df_train, num_round)\n",
        "stop = datetime.now()"
      ],
      "execution_count": 57,
      "outputs": []
    },
    {
      "cell_type": "code",
      "metadata": {
        "colab": {
          "base_uri": "https://localhost:8080/"
        },
        "id": "Lllay56aWLFL",
        "outputId": "56c4c68e-34b9-418f-88e8-2931ebf4e5eb"
      },
      "source": [
        "# visualizando o seu tempo de execução\n",
        "execution_time_xgb2 = stop - start\n",
        "execution_time_xgb2"
      ],
      "execution_count": 58,
      "outputs": [
        {
          "output_type": "execute_result",
          "data": {
            "text/plain": [
              "datetime.timedelta(seconds=21, microseconds=174890)"
            ]
          },
          "metadata": {},
          "execution_count": 58
        }
      ]
    },
    {
      "cell_type": "code",
      "metadata": {
        "colab": {
          "base_uri": "https://localhost:8080/"
        },
        "id": "BX9ZvUSkWLCR",
        "outputId": "b38bf776-a4f8-4184-d3cf-4a8644c94f5b"
      },
      "source": [
        "# realizando as predições\n",
        "y_pred_xgb2 = model_xgb2.predict(df_test)\n",
        "\n",
        "# tamanho das predições realizadas\n",
        "y_pred_xgb2.size"
      ],
      "execution_count": 59,
      "outputs": [
        {
          "output_type": "execute_result",
          "data": {
            "text/plain": [
              "6828"
            ]
          },
          "metadata": {},
          "execution_count": 59
        }
      ]
    },
    {
      "cell_type": "code",
      "metadata": {
        "colab": {
          "base_uri": "https://localhost:8080/"
        },
        "id": "EMnFmfLTN3KX",
        "outputId": "d57f478b-0ba8-4a88-c821-272c6426fe9a"
      },
      "source": [
        "# visualizando as 10 primeiras predições\n",
        "y_pred_xgb2[:10]"
      ],
      "execution_count": 60,
      "outputs": [
        {
          "output_type": "execute_result",
          "data": {
            "text/plain": [
              "array([1.0843548e-02, 8.9237355e-03, 1.8119768e-04, 1.5445412e-05,\n",
              "       1.9114583e-03, 1.3707524e-02, 1.6958008e-02, 7.0886203e-04,\n",
              "       1.0937657e-02, 8.5898601e-02], dtype=float32)"
            ]
          },
          "metadata": {},
          "execution_count": 60
        }
      ]
    },
    {
      "cell_type": "code",
      "metadata": {
        "id": "Kb0823_jWK-9"
      },
      "source": [
        "# realizando um \"for\" para definir o \"corte\" das probabilidades realizadas pelo modelo\n",
        "# e instanciando as classes\n",
        "for i in range(0, len(y_pred_xgb2)):\n",
        "    if y_pred_xgb2[i] >= 0.5:\n",
        "        y_pred_xgb2[i] = 1\n",
        "    else:\n",
        "        y_pred_xgb2[i] = 0"
      ],
      "execution_count": 61,
      "outputs": []
    },
    {
      "cell_type": "code",
      "metadata": {
        "colab": {
          "base_uri": "https://localhost:8080/"
        },
        "id": "wbRcE8UeWK8I",
        "outputId": "d9cd6007-ad37-4197-fd96-4193ddc6e144"
      },
      "source": [
        "# realizando avaliação do modelo\n",
        "acc_model_xgb2 = accuracy_score(y_pred_xgb2, y_test)\n",
        "acc_model_xgb2"
      ],
      "execution_count": 62,
      "outputs": [
        {
          "output_type": "execute_result",
          "data": {
            "text/plain": [
              "0.8613063854715876"
            ]
          },
          "metadata": {},
          "execution_count": 62
        }
      ]
    },
    {
      "cell_type": "markdown",
      "metadata": {
        "id": "OnpLdKKdVNdM"
      },
      "source": [
        "### **LightGBM**"
      ]
    },
    {
      "cell_type": "markdown",
      "metadata": {
        "id": "OQMMxtSfxqEH"
      },
      "source": [
        "Já o algoritmo `LightGBM` trabalha com objeto do tipo \"_Dataset_\", para isso utilizamos a transformação dos dados com a função `.Dataset()`."
      ]
    },
    {
      "cell_type": "code",
      "metadata": {
        "id": "-AoN-ra47O-S"
      },
      "source": [
        "# instanciando o objeto \"train_data\", para isso utilizamos a função \".Dataset\" do LightGBM\n",
        "# e passando como argumentos os dados de treino \"X_train\" e os seus rótulos \"y_train\"\n",
        "train_data = lgb.Dataset(X_train, label=y_train)"
      ],
      "execution_count": 63,
      "outputs": []
    },
    {
      "cell_type": "code",
      "metadata": {
        "id": "dNSA2wP97O74"
      },
      "source": [
        "# instanciando os parãmetros do modelo\n",
        "params_lgb = {\n",
        "    'num_leaves': 150,\n",
        "    'objective': 'binary',\n",
        "    'max_depth': 6,\n",
        "    'learning_rate': 0.5,\n",
        "    'max_bin': 200\n",
        "}"
      ],
      "execution_count": 64,
      "outputs": []
    },
    {
      "cell_type": "code",
      "metadata": {
        "id": "aV9wtmW87O3c"
      },
      "source": [
        "# definindo as métricas de avaliação do modelo\n",
        "params_lgb['metric'] = ['auc', 'binary_logloss']"
      ],
      "execution_count": 65,
      "outputs": []
    },
    {
      "cell_type": "code",
      "metadata": {
        "id": "OPXC2LFP7O1z",
        "colab": {
          "base_uri": "https://localhost:8080/"
        },
        "outputId": "7e1c8916-1b26-4e38-c3ce-0a819b468c09"
      },
      "source": [
        "# definindo o número de treinamento\n",
        "num_round = 150\n",
        "\n",
        "# treinando o modelo e contabilizando o seu tempo de excução\n",
        "start = datetime.now()\n",
        "model_lgb = lgb.train(params_lgb, train_data, num_round)\n",
        "stop = datetime.now()\n",
        "\n",
        "# visualizando o tempo de excução\n",
        "execution_time_lgb = stop - start\n",
        "execution_time_lgb"
      ],
      "execution_count": 66,
      "outputs": [
        {
          "output_type": "execute_result",
          "data": {
            "text/plain": [
              "datetime.timedelta(microseconds=461962)"
            ]
          },
          "metadata": {},
          "execution_count": 66
        }
      ]
    },
    {
      "cell_type": "code",
      "metadata": {
        "colab": {
          "base_uri": "https://localhost:8080/"
        },
        "id": "4FgyAt0hZjzW",
        "outputId": "8b5c7ff5-813e-43ea-ead1-3b9fb4252cd4"
      },
      "source": [
        "# realizando as predições\n",
        "y_pred_lgb = model_lgb.predict(X_test)\n",
        "y_pred_lgb.size"
      ],
      "execution_count": 67,
      "outputs": [
        {
          "output_type": "execute_result",
          "data": {
            "text/plain": [
              "6828"
            ]
          },
          "metadata": {},
          "execution_count": 67
        }
      ]
    },
    {
      "cell_type": "code",
      "metadata": {
        "colab": {
          "base_uri": "https://localhost:8080/"
        },
        "id": "bNZVXbgzaZoa",
        "outputId": "84340220-b93c-4955-84b2-608a81ae0a96"
      },
      "source": [
        "# visualizando as 10 primeiras predições\n",
        "y_pred_lgb[:10]"
      ],
      "execution_count": 68,
      "outputs": [
        {
          "output_type": "execute_result",
          "data": {
            "text/plain": [
              "array([1.02582132e-02, 3.80888220e-03, 1.73859161e-06, 4.11561875e-10,\n",
              "       7.53310803e-04, 5.03548931e-03, 3.96304238e-03, 6.48394063e-06,\n",
              "       1.71235019e-02, 3.66456324e-02])"
            ]
          },
          "metadata": {},
          "execution_count": 68
        }
      ]
    },
    {
      "cell_type": "code",
      "metadata": {
        "id": "GWHnNJ2Oan4R"
      },
      "source": [
        "# realizando um \"for\" para definir o \"corte\" das probabilidades realizadas pelo modelo\n",
        "# e instanciando as classes\n",
        "for i in range(0, len(y_pred_lgb)):\n",
        "    if y_pred_lgb[i] >= 0.5:\n",
        "        y_pred_lgb[i] = 1\n",
        "    else:\n",
        "        y_pred_lgb[i] = 0"
      ],
      "execution_count": 69,
      "outputs": []
    },
    {
      "cell_type": "code",
      "metadata": {
        "colab": {
          "base_uri": "https://localhost:8080/"
        },
        "id": "9NnqX1C47OzE",
        "outputId": "a22cb619-613a-4108-cbf2-e124844d5a33"
      },
      "source": [
        "# avaliando o modelo\n",
        "acc_model_lgb = accuracy_score(y_pred_lgb, y_test)\n",
        "acc_model_lgb"
      ],
      "execution_count": 70,
      "outputs": [
        {
          "output_type": "execute_result",
          "data": {
            "text/plain": [
              "0.8517867603983597"
            ]
          },
          "metadata": {},
          "execution_count": 70
        }
      ]
    },
    {
      "cell_type": "markdown",
      "metadata": {
        "id": "4srQiFSRHAKz"
      },
      "source": [
        "**Aplicando o segundo modelo do `LightGBM` e _tunando_ alguns parâmetros.**"
      ]
    },
    {
      "cell_type": "code",
      "metadata": {
        "id": "IwPHvEy1FLDO"
      },
      "source": [
        "# segundo modelo do \"LigthGBM\"\n",
        "train_data = lgb.Dataset(X_train, y_train)\n",
        "test_data = lgb.Dataset(X_test, y_test, reference=train_data)"
      ],
      "execution_count": 71,
      "outputs": []
    },
    {
      "cell_type": "code",
      "metadata": {
        "id": "uRT3fkm5FLBW"
      },
      "source": [
        "params_lgb2 = {\n",
        "    'boosting_type': 'rf',\n",
        "    'objective': 'binary',\n",
        "    'metric': {'auc', 'binary_logloss'},\n",
        "    'num_leaves': 150,\n",
        "    'learning_rate': 0.05,\n",
        "    'feature_fraction': 0.9,\n",
        "    'bagging_fraction': 0.8,\n",
        "    'bagging_freq': 5,\n",
        "    'max_bin': 200,\n",
        "    'verbose': 0\n",
        "}"
      ],
      "execution_count": 72,
      "outputs": []
    },
    {
      "cell_type": "code",
      "metadata": {
        "colab": {
          "base_uri": "https://localhost:8080/"
        },
        "id": "ySbttDZrFK-o",
        "outputId": "aee2b66d-c2da-41b3-8a8c-0c9f86dc0db1"
      },
      "source": [
        "# visualizando os parâmetros do treinamento do modelo\n",
        "params_lgb2"
      ],
      "execution_count": 73,
      "outputs": [
        {
          "output_type": "execute_result",
          "data": {
            "text/plain": [
              "{'bagging_fraction': 0.8,\n",
              " 'bagging_freq': 5,\n",
              " 'boosting_type': 'rf',\n",
              " 'feature_fraction': 0.9,\n",
              " 'learning_rate': 0.05,\n",
              " 'max_bin': 200,\n",
              " 'metric': {'auc', 'binary_logloss'},\n",
              " 'num_leaves': 150,\n",
              " 'objective': 'binary',\n",
              " 'verbose': 0}"
            ]
          },
          "metadata": {},
          "execution_count": 73
        }
      ]
    },
    {
      "cell_type": "code",
      "metadata": {
        "colab": {
          "base_uri": "https://localhost:8080/"
        },
        "id": "IDt9eJ3tFK8e",
        "outputId": "5e57bc24-2a1a-42e4-ebe1-91a117d3f246"
      },
      "source": [
        "start = datetime.now()\n",
        "\n",
        "model_lgb2 = lgb.train(params_lgb2,\n",
        "                       train_data,\n",
        "                       num_boost_round=150,\n",
        "                       valid_sets=test_data,\n",
        "                       early_stopping_rounds=10)\n",
        "\n",
        "stop = datetime.now()\n",
        "\n",
        "execution_time_lgb2 = stop - start\n",
        "execution_time_lgb2"
      ],
      "execution_count": 74,
      "outputs": [
        {
          "output_type": "stream",
          "name": "stdout",
          "text": [
            "[1]\tvalid_0's auc: 0.896672\tvalid_0's binary_logloss: 0.354059\n",
            "Training until validation scores don't improve for 10 rounds.\n",
            "[2]\tvalid_0's auc: 0.906771\tvalid_0's binary_logloss: 0.338443\n",
            "[3]\tvalid_0's auc: 0.909213\tvalid_0's binary_logloss: 0.339516\n",
            "[4]\tvalid_0's auc: 0.911084\tvalid_0's binary_logloss: 0.337141\n",
            "[5]\tvalid_0's auc: 0.911108\tvalid_0's binary_logloss: 0.336774\n",
            "[6]\tvalid_0's auc: 0.912458\tvalid_0's binary_logloss: 0.333654\n",
            "[7]\tvalid_0's auc: 0.912387\tvalid_0's binary_logloss: 0.33334\n",
            "[8]\tvalid_0's auc: 0.912767\tvalid_0's binary_logloss: 0.332781\n",
            "[9]\tvalid_0's auc: 0.912901\tvalid_0's binary_logloss: 0.332634\n",
            "[10]\tvalid_0's auc: 0.912533\tvalid_0's binary_logloss: 0.332977\n",
            "[11]\tvalid_0's auc: 0.913042\tvalid_0's binary_logloss: 0.33243\n",
            "[12]\tvalid_0's auc: 0.913178\tvalid_0's binary_logloss: 0.33245\n",
            "[13]\tvalid_0's auc: 0.913081\tvalid_0's binary_logloss: 0.332605\n",
            "[14]\tvalid_0's auc: 0.913202\tvalid_0's binary_logloss: 0.332137\n",
            "[15]\tvalid_0's auc: 0.912988\tvalid_0's binary_logloss: 0.332596\n",
            "[16]\tvalid_0's auc: 0.913069\tvalid_0's binary_logloss: 0.332259\n",
            "[17]\tvalid_0's auc: 0.913762\tvalid_0's binary_logloss: 0.331638\n",
            "[18]\tvalid_0's auc: 0.913774\tvalid_0's binary_logloss: 0.331257\n",
            "[19]\tvalid_0's auc: 0.914022\tvalid_0's binary_logloss: 0.330951\n",
            "[20]\tvalid_0's auc: 0.913788\tvalid_0's binary_logloss: 0.330884\n",
            "[21]\tvalid_0's auc: 0.914106\tvalid_0's binary_logloss: 0.330367\n",
            "[22]\tvalid_0's auc: 0.914065\tvalid_0's binary_logloss: 0.330396\n",
            "[23]\tvalid_0's auc: 0.91401\tvalid_0's binary_logloss: 0.330406\n",
            "[24]\tvalid_0's auc: 0.914033\tvalid_0's binary_logloss: 0.330349\n",
            "[25]\tvalid_0's auc: 0.914205\tvalid_0's binary_logloss: 0.330663\n",
            "[26]\tvalid_0's auc: 0.914322\tvalid_0's binary_logloss: 0.330315\n",
            "[27]\tvalid_0's auc: 0.914395\tvalid_0's binary_logloss: 0.330328\n",
            "[28]\tvalid_0's auc: 0.91433\tvalid_0's binary_logloss: 0.330436\n",
            "[29]\tvalid_0's auc: 0.914222\tvalid_0's binary_logloss: 0.330623\n",
            "[30]\tvalid_0's auc: 0.914374\tvalid_0's binary_logloss: 0.330423\n",
            "[31]\tvalid_0's auc: 0.914523\tvalid_0's binary_logloss: 0.330617\n",
            "[32]\tvalid_0's auc: 0.914625\tvalid_0's binary_logloss: 0.330272\n",
            "[33]\tvalid_0's auc: 0.914551\tvalid_0's binary_logloss: 0.330165\n",
            "[34]\tvalid_0's auc: 0.914644\tvalid_0's binary_logloss: 0.329947\n",
            "[35]\tvalid_0's auc: 0.914676\tvalid_0's binary_logloss: 0.329761\n",
            "[36]\tvalid_0's auc: 0.91473\tvalid_0's binary_logloss: 0.329626\n",
            "[37]\tvalid_0's auc: 0.914667\tvalid_0's binary_logloss: 0.329953\n",
            "[38]\tvalid_0's auc: 0.914798\tvalid_0's binary_logloss: 0.329621\n",
            "[39]\tvalid_0's auc: 0.914705\tvalid_0's binary_logloss: 0.330018\n",
            "[40]\tvalid_0's auc: 0.914706\tvalid_0's binary_logloss: 0.329949\n",
            "[41]\tvalid_0's auc: 0.914711\tvalid_0's binary_logloss: 0.329923\n",
            "[42]\tvalid_0's auc: 0.914769\tvalid_0's binary_logloss: 0.329886\n",
            "[43]\tvalid_0's auc: 0.914785\tvalid_0's binary_logloss: 0.329703\n",
            "[44]\tvalid_0's auc: 0.914764\tvalid_0's binary_logloss: 0.329808\n",
            "[45]\tvalid_0's auc: 0.914786\tvalid_0's binary_logloss: 0.329853\n",
            "[46]\tvalid_0's auc: 0.914807\tvalid_0's binary_logloss: 0.329726\n",
            "[47]\tvalid_0's auc: 0.914749\tvalid_0's binary_logloss: 0.329692\n",
            "[48]\tvalid_0's auc: 0.914793\tvalid_0's binary_logloss: 0.329891\n",
            "Early stopping, best iteration is:\n",
            "[38]\tvalid_0's auc: 0.914798\tvalid_0's binary_logloss: 0.329621\n"
          ]
        },
        {
          "output_type": "execute_result",
          "data": {
            "text/plain": [
              "datetime.timedelta(microseconds=629584)"
            ]
          },
          "metadata": {},
          "execution_count": 74
        }
      ]
    },
    {
      "cell_type": "code",
      "metadata": {
        "colab": {
          "base_uri": "https://localhost:8080/"
        },
        "id": "wc_LdyDDFK52",
        "outputId": "d181b6c1-3b7c-431d-c2c5-9de4707f7073"
      },
      "source": [
        "model_lgb2.save_model('model.txt')"
      ],
      "execution_count": 75,
      "outputs": [
        {
          "output_type": "execute_result",
          "data": {
            "text/plain": [
              "<lightgbm.basic.Booster at 0x7fb1bbeac550>"
            ]
          },
          "metadata": {},
          "execution_count": 75
        }
      ]
    },
    {
      "cell_type": "code",
      "metadata": {
        "id": "wgPVtlAJFK3D"
      },
      "source": [
        "y_pred_lgb2 = model_lgb2.predict(X_test, num_iteration=model_lgb2.best_iteration)"
      ],
      "execution_count": 76,
      "outputs": []
    },
    {
      "cell_type": "code",
      "metadata": {
        "id": "Y8JDZ55xFKvN"
      },
      "source": [
        "for i in range(0, len(y_pred_lgb2)):\n",
        "    if y_pred_lgb2[i] >= 0.5:\n",
        "        y_pred_lgb2[i] = 1\n",
        "    else:\n",
        "        y_pred_lgb2[i] = 0"
      ],
      "execution_count": 77,
      "outputs": []
    },
    {
      "cell_type": "code",
      "metadata": {
        "colab": {
          "base_uri": "https://localhost:8080/"
        },
        "id": "koYTVt8fGpec",
        "outputId": "31d9f0b1-1666-46af-f99c-308609f7a22b"
      },
      "source": [
        "# avaliando o modelo\n",
        "acc_model_lgb2 = accuracy_score(y_pred_lgb2, y_test)\n",
        "acc_model_lgb2"
      ],
      "execution_count": 78,
      "outputs": [
        {
          "output_type": "execute_result",
          "data": {
            "text/plain": [
              "0.859402460456942"
            ]
          },
          "metadata": {},
          "execution_count": 78
        }
      ]
    },
    {
      "cell_type": "markdown",
      "metadata": {
        "id": "knwTclRLJGeN"
      },
      "source": [
        "**Avaliando os modelos**"
      ]
    },
    {
      "cell_type": "code",
      "metadata": {
        "id": "PFP7zIpS7Owy"
      },
      "source": [
        "# importando a função para avaliação da acurácia da curva roc\n",
        "from sklearn.metrics import roc_auc_score"
      ],
      "execution_count": 79,
      "outputs": []
    },
    {
      "cell_type": "code",
      "metadata": {
        "colab": {
          "base_uri": "https://localhost:8080/"
        },
        "id": "k8gWQGWN7Oum",
        "outputId": "7b04552c-f461-47b1-8eb9-7b98e900fefb"
      },
      "source": [
        "# visualizando a acurácia da curva roc do modelo \"model_xgb\"\n",
        "auc_xgb1 = roc_auc_score(y_pred_xgb, y_test)\n",
        "auc_xgb1"
      ],
      "execution_count": 80,
      "outputs": [
        {
          "output_type": "execute_result",
          "data": {
            "text/plain": [
              "0.8165609919364478"
            ]
          },
          "metadata": {},
          "execution_count": 80
        }
      ]
    },
    {
      "cell_type": "code",
      "metadata": {
        "colab": {
          "base_uri": "https://localhost:8080/"
        },
        "id": "h1muH7CV7Osw",
        "outputId": "9d2caa4b-99d4-40c0-e690-bb22d1546c07"
      },
      "source": [
        "# visualizando a acurácia da curva roc do modelo \"model_xgb2\"\n",
        "auc_xgb2 = roc_auc_score(y_pred_xgb2, y_test)\n",
        "auc_xgb2"
      ],
      "execution_count": 81,
      "outputs": [
        {
          "output_type": "execute_result",
          "data": {
            "text/plain": [
              "0.8155764521194301"
            ]
          },
          "metadata": {},
          "execution_count": 81
        }
      ]
    },
    {
      "cell_type": "code",
      "metadata": {
        "colab": {
          "base_uri": "https://localhost:8080/"
        },
        "id": "YH8ROqbC7Oqb",
        "outputId": "5438ad94-a765-4bbc-beee-fb8d8e600da4"
      },
      "source": [
        "# visualizando a acurácia da curva roc do modelo \"model_lgb\"\n",
        "auc_lgb = roc_auc_score(y_pred_lgb, y_test)\n",
        "auc_lgb"
      ],
      "execution_count": 82,
      "outputs": [
        {
          "output_type": "execute_result",
          "data": {
            "text/plain": [
              "0.7997189498443203"
            ]
          },
          "metadata": {},
          "execution_count": 82
        }
      ]
    },
    {
      "cell_type": "code",
      "metadata": {
        "colab": {
          "base_uri": "https://localhost:8080/"
        },
        "id": "kOD_p9tqKliP",
        "outputId": "aa89263e-c682-4148-d7c1-f3b57ae0df0b"
      },
      "source": [
        "# visualizando a acurácia da curva roc do modelo \"model_lgb2\"\n",
        "auc_lgb2 = roc_auc_score(y_pred_lgb2, y_test)\n",
        "auc_lgb2"
      ],
      "execution_count": 83,
      "outputs": [
        {
          "output_type": "execute_result",
          "data": {
            "text/plain": [
              "0.8107612612612612"
            ]
          },
          "metadata": {},
          "execution_count": 83
        }
      ]
    },
    {
      "cell_type": "code",
      "metadata": {
        "id": "iDKvHaC-7Oos"
      },
      "source": [
        "# instanciando um dicionário com os resultados dos modelos\n",
        "results_comparison = {\n",
        "    'accuracy score': (acc_model_xgb, acc_model_xgb2, acc_model_lgb, acc_model_lgb2),\n",
        "    'auc score': (auc_xgb1, auc_xgb2, auc_lgb, auc_lgb2), \n",
        "    'execution time': (execution_time_xgb , execution_time_xgb2, execution_time_lgb, execution_time_lgb2)\n",
        "}"
      ],
      "execution_count": 84,
      "outputs": []
    },
    {
      "cell_type": "code",
      "metadata": {
        "colab": {
          "base_uri": "https://localhost:8080/",
          "height": 175
        },
        "id": "-INfUszb7OmQ",
        "outputId": "486f5803-ada0-4672-a18c-df9bc929d7df"
      },
      "source": [
        "# criando um dataframe com o dicionário dos resultados dos modelos\n",
        "df_results = pd.DataFrame(results_comparison, index=['XGBoost_1',\n",
        "                                                     'XGBoost_2',\n",
        "                                                     'LightGBM', \n",
        "                                                     'LightGBM_2'])\n",
        "\n",
        "# visualizando o dataframe criado\n",
        "df_results"
      ],
      "execution_count": 85,
      "outputs": [
        {
          "output_type": "execute_result",
          "data": {
            "text/html": [
              "<div>\n",
              "<style scoped>\n",
              "    .dataframe tbody tr th:only-of-type {\n",
              "        vertical-align: middle;\n",
              "    }\n",
              "\n",
              "    .dataframe tbody tr th {\n",
              "        vertical-align: top;\n",
              "    }\n",
              "\n",
              "    .dataframe thead th {\n",
              "        text-align: right;\n",
              "    }\n",
              "</style>\n",
              "<table border=\"1\" class=\"dataframe\">\n",
              "  <thead>\n",
              "    <tr style=\"text-align: right;\">\n",
              "      <th></th>\n",
              "      <th>accuracy score</th>\n",
              "      <th>auc score</th>\n",
              "      <th>execution time</th>\n",
              "    </tr>\n",
              "  </thead>\n",
              "  <tbody>\n",
              "    <tr>\n",
              "      <th>XGBoost_1</th>\n",
              "      <td>0.861599</td>\n",
              "      <td>0.816561</td>\n",
              "      <td>0 days 00:00:07.017011</td>\n",
              "    </tr>\n",
              "    <tr>\n",
              "      <th>XGBoost_2</th>\n",
              "      <td>0.861306</td>\n",
              "      <td>0.815576</td>\n",
              "      <td>0 days 00:00:21.174890</td>\n",
              "    </tr>\n",
              "    <tr>\n",
              "      <th>LightGBM</th>\n",
              "      <td>0.851787</td>\n",
              "      <td>0.799719</td>\n",
              "      <td>0 days 00:00:00.461962</td>\n",
              "    </tr>\n",
              "    <tr>\n",
              "      <th>LightGBM_2</th>\n",
              "      <td>0.859402</td>\n",
              "      <td>0.810761</td>\n",
              "      <td>0 days 00:00:00.629584</td>\n",
              "    </tr>\n",
              "  </tbody>\n",
              "</table>\n",
              "</div>"
            ],
            "text/plain": [
              "            accuracy score  auc score         execution time\n",
              "XGBoost_1         0.861599   0.816561 0 days 00:00:07.017011\n",
              "XGBoost_2         0.861306   0.815576 0 days 00:00:21.174890\n",
              "LightGBM          0.851787   0.799719 0 days 00:00:00.461962\n",
              "LightGBM_2        0.859402   0.810761 0 days 00:00:00.629584"
            ]
          },
          "metadata": {},
          "execution_count": 85
        }
      ]
    },
    {
      "cell_type": "markdown",
      "metadata": {
        "id": "pRe-X2utOmrO"
      },
      "source": [
        "> Veja que, praticamente as métricas dos modelos ficaram muito próximas uma das outras, pórem o destaque é em relação ao tempo de execução, onde o `LightGBM` foi muito superior ao _XGBoost_.\n"
      ]
    },
    {
      "cell_type": "code",
      "metadata": {
        "id": "8L_d8krl7OiB",
        "colab": {
          "base_uri": "https://localhost:8080/"
        },
        "outputId": "da6dd120-164f-4535-a226-3dde3f15f04d"
      },
      "source": [
        "# salvando o \"melhor\" modelo, nesse caso o \"LightGBM\"\n",
        "model_lgb.save_model('model.txt')"
      ],
      "execution_count": 86,
      "outputs": [
        {
          "output_type": "execute_result",
          "data": {
            "text/plain": [
              "<lightgbm.basic.Booster at 0x7fb1bc714fd0>"
            ]
          },
          "metadata": {},
          "execution_count": 86
        }
      ]
    },
    {
      "cell_type": "code",
      "metadata": {
        "id": "fc4roXco7OgL"
      },
      "source": [
        "# instanciando o modelo em um arquivo \"json\"\n",
        "json_model = model_lgb.dump_model()"
      ],
      "execution_count": 87,
      "outputs": []
    },
    {
      "cell_type": "code",
      "metadata": {
        "id": "CknmdXrTSNJE"
      },
      "source": [
        "# criando um objeto com o modelo salvo\n",
        "model = lgb.Booster(model_file='model.txt') "
      ],
      "execution_count": 88,
      "outputs": []
    },
    {
      "cell_type": "code",
      "metadata": {
        "colab": {
          "base_uri": "https://localhost:8080/"
        },
        "id": "EzE2gj9sSNGG",
        "outputId": "1ddf4754-408c-4aa1-865a-656d9b0acb15"
      },
      "source": [
        "# visualizando o objeto criado\n",
        "model"
      ],
      "execution_count": 89,
      "outputs": [
        {
          "output_type": "execute_result",
          "data": {
            "text/plain": [
              "<lightgbm.basic.Booster at 0x7fb1bbbe8150>"
            ]
          },
          "metadata": {},
          "execution_count": 89
        }
      ]
    },
    {
      "cell_type": "code",
      "metadata": {
        "id": "lS0vvBd1SNDf"
      },
      "source": [
        "# # realizando o download do arquivo\n",
        "# from google.colab import files \n",
        "# files.download('model.txt')"
      ],
      "execution_count": 90,
      "outputs": []
    },
    {
      "cell_type": "code",
      "metadata": {
        "id": "KsEeqPhHY4cg"
      },
      "source": [
        ""
      ],
      "execution_count": 90,
      "outputs": []
    },
    {
      "cell_type": "code",
      "metadata": {
        "id": "aYxT2cgGY4Nj"
      },
      "source": [
        ""
      ],
      "execution_count": 90,
      "outputs": []
    },
    {
      "cell_type": "code",
      "metadata": {
        "id": "Lr4IKRxmY4Jh"
      },
      "source": [
        ""
      ],
      "execution_count": 90,
      "outputs": []
    }
  ]
}